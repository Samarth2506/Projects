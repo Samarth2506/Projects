{
 "cells": [
  {
   "cell_type": "markdown",
   "metadata": {},
   "source": [
    "## _Text Pre-Processing Script_\n",
    "\n",
    "**Script to pre-process text including cleaning up text (convert to lower case, remove stop words and remove punctuation) and lemmatize text**"
   ]
  },
  {
   "cell_type": "markdown",
   "metadata": {},
   "source": [
    "### _Import Libraries_"
   ]
  },
  {
   "cell_type": "code",
   "execution_count": 26,
   "metadata": {},
   "outputs": [],
   "source": [
    "import pandas as pd\n",
    "import numpy as np\n",
    "import tensorflow\n",
    "import ast1\n",
    "import re\n",
    "import matplotlib.pyplot as plt\n",
    "import seaborn as sns\n",
    "\n",
    "from nltk.corpus import stopwords\n",
    "stop_words = stopwords.words(\"english\")\n",
    "from nltk.stem import WordNetLemmatizer\n",
    "from nltk.tokenize import word_tokenize\n",
    "wordnet_lemmatizer = WordNetLemmatizer()\n",
    "import string\n",
    "punctuations = string.punctuation\n",
    "import matplotlib.pyplot as plt\n",
    "import seaborn as sns\n",
    "\n",
    "import dask.dataframe as dd\n",
    "from dask.multiprocessing import get\n",
    "from dask.diagnostics import ProgressBar"
   ]
  },
  {
   "cell_type": "markdown",
   "metadata": {},
   "source": [
    "### _Read in 8-K documents data and fix data types_"
   ]
  },
  {
   "cell_type": "code",
   "execution_count": 27,
   "metadata": {},
   "outputs": [
    {
     "data": {
      "text/plain": [
       "(80, 17)"
      ]
     },
     "execution_count": 27,
     "metadata": {},
     "output_type": "execute_result"
    }
   ],
   "source": [
    "df_1 = pd.read_csv(\"./docs_fin_default.csv\")\n",
    "df = df_1\n",
    "\n",
    "df.shape"
   ]
  },
  {
   "cell_type": "code",
   "execution_count": 28,
   "metadata": {},
   "outputs": [
    {
     "data": {
      "text/plain": [
       "Unnamed: 0                    int64\n",
       "ticker                       object\n",
       "cik                         float64\n",
       "txt_link                     object\n",
       "doc_name                     object\n",
       "GICS Sector                  object\n",
       "GICS Sub Industry            object\n",
       "text                         object\n",
       "release_date         datetime64[ns]\n",
       "items                        object\n",
       "price_change                float64\n",
       "vix                         float64\n",
       "rm_week                     float64\n",
       "rm_month                    float64\n",
       "rm_qtr                      float64\n",
       "rm_year                     float64\n",
       "signal                       object\n",
       "dtype: object"
      ]
     },
     "execution_count": 28,
     "metadata": {},
     "output_type": "execute_result"
    }
   ],
   "source": [
    "df['release_date'] = pd.to_datetime(df['release_date'])\n",
    "df.dtypes"
   ]
  },
  {
   "cell_type": "markdown",
   "metadata": {},
   "source": [
    "### _Filter data based on dates needed_"
   ]
  },
  {
   "cell_type": "code",
   "execution_count": 29,
   "metadata": {},
   "outputs": [],
   "source": [
    "# filter_train = (df['release_date'] <= '2014-01-01')\n",
    "# filter_test = (df['release_date'] > '2014-01-01')\n",
    "\n",
    "# train_data = df[filter_train]\n",
    "# test_data = df[filter_test]\n",
    "\n",
    "# train_data.tail()"
   ]
  },
  {
   "cell_type": "code",
   "execution_count": 30,
   "metadata": {},
   "outputs": [],
   "source": [
    "df['release_date'] = df['release_date'].map(lambda x: pd.to_datetime(x))\n",
    "df['items'] = df['items'].map(lambda x: ast.literal_eval(x))"
   ]
  },
  {
   "cell_type": "markdown",
   "metadata": {},
   "source": [
    "### _Pre-Process Text_"
   ]
  },
  {
   "cell_type": "code",
   "execution_count": 32,
   "metadata": {},
   "outputs": [],
   "source": [
    "def nltk_tokenizer(text):\n",
    "    \"\"\"\n",
    "    Function to clean up text including converting to lower case,removing stop words\n",
    "    removing punctuation and tokenization.\n",
    "    \n",
    "    Args:\n",
    "        text (str): Text to be processed.\n",
    "        \n",
    "    Returns:\n",
    "        list: List of cleaned tokens from text.\n",
    "    \"\"\"\n",
    "    try:\n",
    "        tokens = [word for word in word_tokenize(text) if word.isalpha()]\n",
    "        tokens = list(filter(lambda t: t not in punctuations, tokens))\n",
    "        tokens = list(filter(lambda t: t.lower() not in stop_words, tokens))\n",
    "        filtered_tokens = []\n",
    "        for token in tokens:\n",
    "            if re.search('[a-zA-Z]', token):\n",
    "                filtered_tokens.append(token)\n",
    "        filtered_tokens = list(\n",
    "            map(lambda token: wordnet_lemmatizer.lemmatize(token.lower()), filtered_tokens))\n",
    "        filtered_tokens = list(filter(lambda t: t not in punctuations, filtered_tokens))\n",
    "        return filtered_tokens\n",
    "    except Exception as e:\n",
    "        raise e\n",
    "\n",
    "def dask_tokenizer(df):\n",
    "    \"\"\"\n",
    "    Function to map text from a DataFrame to pre-process text.\n",
    "    \n",
    "    Args:\n",
    "        DataFrame: DataFrame containing text to be pre-processed.\n",
    "        \n",
    "    Retuns:\n",
    "        DataFrame: Preprocessed text.\n",
    "        DataFrame: Length of pre-processed text.\n",
    "    \"\"\"\n",
    "    df['processed_text'] = df['text'].map(nltk_tokenizer)\n",
    "    df['text_len'] = df['processed_text'].map(lambda x: len(x))\n",
    "    return df"
   ]
  },
  {
   "cell_type": "markdown",
   "metadata": {},
   "source": [
    "### _Run Functions to Pre-Process Text_"
   ]
  },
  {
   "cell_type": "code",
   "execution_count": 33,
   "metadata": {},
   "outputs": [
    {
     "name": "stdout",
     "output_type": "stream",
     "text": [
      "[########################################] | 100% Completed |  2min 13.5s\n",
      "[########################################] | 100% Completed |  2min 13.6s\n",
      "[########################################] | 100% Completed |  2min 13.7s\n",
      "[########################################] | 100% Completed |  2min 13.6s\n",
      "[########################################] | 100% Completed |  2min 13.7s\n"
     ]
    }
   ],
   "source": [
    "pbar = ProgressBar()\n",
    "pbar.register()\n",
    "ddata = dd.from_pandas(df, npartitions=20)\n",
    "df = ddata.map_partitions(dask_tokenizer).compute(get=get)"
   ]
  },
  {
   "cell_type": "code",
   "execution_count": 34,
   "metadata": {},
   "outputs": [
    {
     "data": {
      "text/html": [
       "<div>\n",
       "<style scoped>\n",
       "    .dataframe tbody tr th:only-of-type {\n",
       "        vertical-align: middle;\n",
       "    }\n",
       "\n",
       "    .dataframe tbody tr th {\n",
       "        vertical-align: top;\n",
       "    }\n",
       "\n",
       "    .dataframe thead th {\n",
       "        text-align: right;\n",
       "    }\n",
       "</style>\n",
       "<table border=\"1\" class=\"dataframe\">\n",
       "  <thead>\n",
       "    <tr style=\"text-align: right;\">\n",
       "      <th></th>\n",
       "      <th>Unnamed: 0</th>\n",
       "      <th>ticker</th>\n",
       "      <th>cik</th>\n",
       "      <th>txt_link</th>\n",
       "      <th>doc_name</th>\n",
       "      <th>GICS Sector</th>\n",
       "      <th>GICS Sub Industry</th>\n",
       "      <th>text</th>\n",
       "      <th>release_date</th>\n",
       "      <th>items</th>\n",
       "      <th>price_change</th>\n",
       "      <th>vix</th>\n",
       "      <th>rm_week</th>\n",
       "      <th>rm_month</th>\n",
       "      <th>rm_qtr</th>\n",
       "      <th>rm_year</th>\n",
       "      <th>signal</th>\n",
       "      <th>processed_text</th>\n",
       "      <th>text_len</th>\n",
       "    </tr>\n",
       "  </thead>\n",
       "  <tbody>\n",
       "    <tr>\n",
       "      <th>0</th>\n",
       "      <td>1962</td>\n",
       "      <td>Apple Inc.</td>\n",
       "      <td>320193.0</td>\n",
       "      <td>https://www.sec.gov/Archives/edgar/data/320193...</td>\n",
       "      <td>0001193125-18-045761.txt</td>\n",
       "      <td>Information Technology</td>\n",
       "      <td>Information Technology</td>\n",
       "      <td>0001193125-18-045761.txt : 20180214 0001193125...</td>\n",
       "      <td>2018-02-14 16:54:21</td>\n",
       "      <td>[]</td>\n",
       "      <td>2.00</td>\n",
       "      <td>2698.629883</td>\n",
       "      <td>4.96</td>\n",
       "      <td>-8.67</td>\n",
       "      <td>-12.19</td>\n",
       "      <td>21.31</td>\n",
       "      <td>up</td>\n",
       "      <td>[accession, number, conformed, submission, typ...</td>\n",
       "      <td>914</td>\n",
       "    </tr>\n",
       "    <tr>\n",
       "      <th>1</th>\n",
       "      <td>1963</td>\n",
       "      <td>Apple Inc.</td>\n",
       "      <td>320193.0</td>\n",
       "      <td>https://www.sec.gov/Archives/edgar/data/320193...</td>\n",
       "      <td>0000320193-18-000005.txt</td>\n",
       "      <td>Information Technology</td>\n",
       "      <td>Information Technology</td>\n",
       "      <td>0000320193-18-000005.txt : 20180201 0000320193...</td>\n",
       "      <td>2018-02-01 16:30:17</td>\n",
       "      <td>[Item 2.02, Item 9.01]</td>\n",
       "      <td>0.88</td>\n",
       "      <td>2821.979980</td>\n",
       "      <td>-2.26</td>\n",
       "      <td>-4.93</td>\n",
       "      <td>3.10</td>\n",
       "      <td>36.79</td>\n",
       "      <td>stay</td>\n",
       "      <td>[accession, number, conformed, submission, typ...</td>\n",
       "      <td>993</td>\n",
       "    </tr>\n",
       "    <tr>\n",
       "      <th>2</th>\n",
       "      <td>1964</td>\n",
       "      <td>Apple Inc.</td>\n",
       "      <td>320193.0</td>\n",
       "      <td>https://www.sec.gov/Archives/edgar/data/320193...</td>\n",
       "      <td>0001193125-17-341015.txt</td>\n",
       "      <td>Information Technology</td>\n",
       "      <td>Information Technology</td>\n",
       "      <td>0001193125-17-341015.txt : 20171113 0001193125...</td>\n",
       "      <td>2017-11-13 16:44:57</td>\n",
       "      <td>[]</td>\n",
       "      <td>1.23</td>\n",
       "      <td>2584.840088</td>\n",
       "      <td>0.70</td>\n",
       "      <td>11.58</td>\n",
       "      <td>8.45</td>\n",
       "      <td>39.04</td>\n",
       "      <td>up</td>\n",
       "      <td>[accession, number, conformed, submission, typ...</td>\n",
       "      <td>15829</td>\n",
       "    </tr>\n",
       "    <tr>\n",
       "      <th>3</th>\n",
       "      <td>1965</td>\n",
       "      <td>Apple Inc.</td>\n",
       "      <td>320193.0</td>\n",
       "      <td>https://www.sec.gov/Archives/edgar/data/320193...</td>\n",
       "      <td>0000320193-17-000067.txt</td>\n",
       "      <td>Information Technology</td>\n",
       "      <td>Information Technology</td>\n",
       "      <td>0000320193-17-000067.txt : 20171102 0000320193...</td>\n",
       "      <td>2017-11-02 16:30:16</td>\n",
       "      <td>[]</td>\n",
       "      <td>5.36</td>\n",
       "      <td>2579.850098</td>\n",
       "      <td>5.50</td>\n",
       "      <td>6.52</td>\n",
       "      <td>5.45</td>\n",
       "      <td>28.88</td>\n",
       "      <td>up</td>\n",
       "      <td>[accession, number, conformed, submission, typ...</td>\n",
       "      <td>994</td>\n",
       "    </tr>\n",
       "    <tr>\n",
       "      <th>4</th>\n",
       "      <td>1966</td>\n",
       "      <td>Apple Inc.</td>\n",
       "      <td>320193.0</td>\n",
       "      <td>https://www.sec.gov/Archives/edgar/data/320193...</td>\n",
       "      <td>0001193125-17-308859.txt</td>\n",
       "      <td>Information Technology</td>\n",
       "      <td>Information Technology</td>\n",
       "      <td>0001193125-17-308859.txt : 20171012 0001193125...</td>\n",
       "      <td>2017-10-12 16:31:33</td>\n",
       "      <td>[]</td>\n",
       "      <td>2.15</td>\n",
       "      <td>2550.929932</td>\n",
       "      <td>0.82</td>\n",
       "      <td>-4.53</td>\n",
       "      <td>5.59</td>\n",
       "      <td>28.49</td>\n",
       "      <td>up</td>\n",
       "      <td>[accession, number, conformed, submission, typ...</td>\n",
       "      <td>305</td>\n",
       "    </tr>\n",
       "  </tbody>\n",
       "</table>\n",
       "</div>"
      ],
      "text/plain": [
       "   Unnamed: 0      ticker       cik  \\\n",
       "0        1962  Apple Inc.  320193.0   \n",
       "1        1963  Apple Inc.  320193.0   \n",
       "2        1964  Apple Inc.  320193.0   \n",
       "3        1965  Apple Inc.  320193.0   \n",
       "4        1966  Apple Inc.  320193.0   \n",
       "\n",
       "                                            txt_link  \\\n",
       "0  https://www.sec.gov/Archives/edgar/data/320193...   \n",
       "1  https://www.sec.gov/Archives/edgar/data/320193...   \n",
       "2  https://www.sec.gov/Archives/edgar/data/320193...   \n",
       "3  https://www.sec.gov/Archives/edgar/data/320193...   \n",
       "4  https://www.sec.gov/Archives/edgar/data/320193...   \n",
       "\n",
       "                   doc_name             GICS Sector       GICS Sub Industry  \\\n",
       "0  0001193125-18-045761.txt  Information Technology  Information Technology   \n",
       "1  0000320193-18-000005.txt  Information Technology  Information Technology   \n",
       "2  0001193125-17-341015.txt  Information Technology  Information Technology   \n",
       "3  0000320193-17-000067.txt  Information Technology  Information Technology   \n",
       "4  0001193125-17-308859.txt  Information Technology  Information Technology   \n",
       "\n",
       "                                                text        release_date  \\\n",
       "0  0001193125-18-045761.txt : 20180214 0001193125... 2018-02-14 16:54:21   \n",
       "1  0000320193-18-000005.txt : 20180201 0000320193... 2018-02-01 16:30:17   \n",
       "2  0001193125-17-341015.txt : 20171113 0001193125... 2017-11-13 16:44:57   \n",
       "3  0000320193-17-000067.txt : 20171102 0000320193... 2017-11-02 16:30:16   \n",
       "4  0001193125-17-308859.txt : 20171012 0001193125... 2017-10-12 16:31:33   \n",
       "\n",
       "                    items  price_change          vix  rm_week  rm_month  \\\n",
       "0                      []          2.00  2698.629883     4.96     -8.67   \n",
       "1  [Item 2.02, Item 9.01]          0.88  2821.979980    -2.26     -4.93   \n",
       "2                      []          1.23  2584.840088     0.70     11.58   \n",
       "3                      []          5.36  2579.850098     5.50      6.52   \n",
       "4                      []          2.15  2550.929932     0.82     -4.53   \n",
       "\n",
       "   rm_qtr  rm_year signal                                     processed_text  \\\n",
       "0  -12.19    21.31     up  [accession, number, conformed, submission, typ...   \n",
       "1    3.10    36.79   stay  [accession, number, conformed, submission, typ...   \n",
       "2    8.45    39.04     up  [accession, number, conformed, submission, typ...   \n",
       "3    5.45    28.88     up  [accession, number, conformed, submission, typ...   \n",
       "4    5.59    28.49     up  [accession, number, conformed, submission, typ...   \n",
       "\n",
       "   text_len  \n",
       "0       914  \n",
       "1       993  \n",
       "2     15829  \n",
       "3       994  \n",
       "4       305  "
      ]
     },
     "execution_count": 34,
     "metadata": {},
     "output_type": "execute_result"
    }
   ],
   "source": [
    "df.head()"
   ]
  },
  {
   "cell_type": "markdown",
   "metadata": {},
   "source": [
    "### _Save Pre-Processed Text to CSV_"
   ]
  },
  {
   "cell_type": "code",
   "execution_count": 35,
   "metadata": {},
   "outputs": [],
   "source": [
    "df.to_csv(\"Data/lemmatized_text_default.csv\")"
   ]
  },
  {
   "cell_type": "code",
   "execution_count": null,
   "metadata": {
    "collapsed": true
   },
   "outputs": [],
   "source": []
  }
 ],
 "metadata": {
  "kernelspec": {
   "display_name": "Python 3",
   "language": "python",
   "name": "python3"
  },
  "language_info": {
   "codemirror_mode": {
    "name": "ipython",
    "version": 3
   },
   "file_extension": ".py",
   "mimetype": "text/x-python",
   "name": "python",
   "nbconvert_exporter": "python",
   "pygments_lexer": "ipython3",
   "version": "3.7.7"
  }
 },
 "nbformat": 4,
 "nbformat_minor": 2
}
