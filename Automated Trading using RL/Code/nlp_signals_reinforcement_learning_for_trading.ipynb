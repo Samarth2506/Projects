{
 "cells": [
  {
   "cell_type": "markdown",
   "metadata": {},
   "source": [
    "## _Trading Strategy using Actor Critic RL_"
   ]
  },
  {
   "cell_type": "code",
   "execution_count": 7,
   "metadata": {},
   "outputs": [],
   "source": [
    "# import libraries\n",
    "\n",
    "import math, random\n",
    "import gym\n",
    "import numpy as np\n",
    "import pandas as pd\n",
    "import quandl\n",
    "import torch\n",
    "import torch.nn as nn\n",
    "import torch.optim as optim\n",
    "import torch.autograd as autograd\n",
    "import torch.nn.functional as F\n",
    "from torch.distributions import Categorical\n",
    "\n",
    "%matplotlib inline\n",
    "import matplotlib.pyplot as plt"
   ]
  },
  {
   "cell_type": "code",
   "execution_count": 8,
   "metadata": {},
   "outputs": [
    {
     "data": {
      "text/plain": [
       "<torch._C.Generator at 0x29006742390>"
      ]
     },
     "execution_count": 8,
     "metadata": {},
     "output_type": "execute_result"
    }
   ],
   "source": [
    "torch.manual_seed(51)"
   ]
  },
  {
   "cell_type": "markdown",
   "metadata": {},
   "source": [
    "## _Use Quandl API to get stock data of companies of interest_"
   ]
  },
  {
   "cell_type": "code",
   "execution_count": 10,
   "metadata": {},
   "outputs": [],
   "source": [
    "apl_stock=quandl.get('WIKI/AAPL', start_date=\"2014-01-01\", end_date=\"2018-09-12\", )\n",
    "ge_stock=quandl.get('WIKI/GE', start_date=\"2014-01-01\", end_date=\"2018-09-12\")\n",
    "apl_open = apl_stock[\"Open\"].values\n",
    "apl_close = apl_stock[\"Close\"].values\n",
    "ge_open = ge_stock[\"Open\"].values\n",
    "ge_close = ge_stock[\"Close\"].values\n",
    "apl_stock['Date'] = apl_stock.index.strftime('%Y-%m-%d')\n",
    "ge_stock['Date'] = ge_stock.index.strftime('%Y-%m-%d')"
   ]
  },
  {
   "cell_type": "markdown",
   "metadata": {},
   "source": [
    "## _Read in Time Series and DL Predictions_"
   ]
  },
  {
   "cell_type": "code",
   "execution_count": 11,
   "metadata": {},
   "outputs": [],
   "source": [
    "apl_preds_lstm = pd.read_csv('apple_predictions_train.csv')\n",
    "apl_preds_lstm = apl_preds_lstm[(apl_preds_lstm.Date >= '2014-01-01') & (apl_preds_lstm.Date <= '2019-09-12')]\n",
    "ge_preds_lstm = pd.read_csv('ge_predictions_train.csv')\n",
    "ge_preds_lstm = ge_preds_lstm[(ge_preds_lstm.Date >= '2014-01-01') & (ge_preds_lstm.Date <= '2019-09-12')]"
   ]
  },
  {
   "cell_type": "code",
   "execution_count": 12,
   "metadata": {
    "scrolled": false
   },
   "outputs": [],
   "source": [
    "nlp_state_rl = pd.read_csv('rl_8k_state.csv')\n",
    "\n",
    "nlp_state_rl.index = nlp_state_rl.Date\n",
    "\n",
    "nlp_state_rl = nlp_state_rl.drop(['Date'], axis = 1)"
   ]
  },
  {
   "cell_type": "code",
   "execution_count": 13,
   "metadata": {},
   "outputs": [
    {
     "data": {
      "text/html": [
       "<div>\n",
       "<style scoped>\n",
       "    .dataframe tbody tr th:only-of-type {\n",
       "        vertical-align: middle;\n",
       "    }\n",
       "\n",
       "    .dataframe tbody tr th {\n",
       "        vertical-align: top;\n",
       "    }\n",
       "\n",
       "    .dataframe thead th {\n",
       "        text-align: right;\n",
       "    }\n",
       "</style>\n",
       "<table border=\"1\" class=\"dataframe\">\n",
       "  <thead>\n",
       "    <tr style=\"text-align: right;\">\n",
       "      <th></th>\n",
       "      <th>Unnamed: 0</th>\n",
       "      <th>Date</th>\n",
       "      <th>predictions</th>\n",
       "      <th>ticker</th>\n",
       "    </tr>\n",
       "  </thead>\n",
       "  <tbody>\n",
       "    <tr>\n",
       "      <th>4019</th>\n",
       "      <td>2014-01-02</td>\n",
       "      <td>2014-01-02</td>\n",
       "      <td>78.488525</td>\n",
       "      <td>Apple Inc.</td>\n",
       "    </tr>\n",
       "    <tr>\n",
       "      <th>4020</th>\n",
       "      <td>2014-01-03</td>\n",
       "      <td>2014-01-03</td>\n",
       "      <td>79.466225</td>\n",
       "      <td>Apple Inc.</td>\n",
       "    </tr>\n",
       "    <tr>\n",
       "      <th>4021</th>\n",
       "      <td>2014-01-06</td>\n",
       "      <td>2014-01-06</td>\n",
       "      <td>78.303370</td>\n",
       "      <td>Apple Inc.</td>\n",
       "    </tr>\n",
       "    <tr>\n",
       "      <th>4022</th>\n",
       "      <td>2014-01-07</td>\n",
       "      <td>2014-01-07</td>\n",
       "      <td>76.310740</td>\n",
       "      <td>Apple Inc.</td>\n",
       "    </tr>\n",
       "    <tr>\n",
       "      <th>4023</th>\n",
       "      <td>2014-01-08</td>\n",
       "      <td>2014-01-08</td>\n",
       "      <td>77.010540</td>\n",
       "      <td>Apple Inc.</td>\n",
       "    </tr>\n",
       "  </tbody>\n",
       "</table>\n",
       "</div>"
      ],
      "text/plain": [
       "      Unnamed: 0        Date  predictions      ticker\n",
       "4019  2014-01-02  2014-01-02    78.488525  Apple Inc.\n",
       "4020  2014-01-03  2014-01-03    79.466225  Apple Inc.\n",
       "4021  2014-01-06  2014-01-06    78.303370  Apple Inc.\n",
       "4022  2014-01-07  2014-01-07    76.310740  Apple Inc.\n",
       "4023  2014-01-08  2014-01-08    77.010540  Apple Inc."
      ]
     },
     "execution_count": 13,
     "metadata": {},
     "output_type": "execute_result"
    }
   ],
   "source": [
    "apl_preds_lstm.head()"
   ]
  },
  {
   "cell_type": "code",
   "execution_count": 14,
   "metadata": {},
   "outputs": [
    {
     "data": {
      "text/html": [
       "<div>\n",
       "<style scoped>\n",
       "    .dataframe tbody tr th:only-of-type {\n",
       "        vertical-align: middle;\n",
       "    }\n",
       "\n",
       "    .dataframe tbody tr th {\n",
       "        vertical-align: top;\n",
       "    }\n",
       "\n",
       "    .dataframe thead th {\n",
       "        text-align: right;\n",
       "    }\n",
       "</style>\n",
       "<table border=\"1\" class=\"dataframe\">\n",
       "  <thead>\n",
       "    <tr style=\"text-align: right;\">\n",
       "      <th></th>\n",
       "      <th>Open</th>\n",
       "      <th>High</th>\n",
       "      <th>Low</th>\n",
       "      <th>Close</th>\n",
       "      <th>Volume</th>\n",
       "      <th>Ex-Dividend</th>\n",
       "      <th>Split Ratio</th>\n",
       "      <th>Adj. Open</th>\n",
       "      <th>Adj. High</th>\n",
       "      <th>Adj. Low</th>\n",
       "      <th>Adj. Close</th>\n",
       "      <th>Adj. Volume</th>\n",
       "      <th>Date</th>\n",
       "    </tr>\n",
       "    <tr>\n",
       "      <th>Date</th>\n",
       "      <th></th>\n",
       "      <th></th>\n",
       "      <th></th>\n",
       "      <th></th>\n",
       "      <th></th>\n",
       "      <th></th>\n",
       "      <th></th>\n",
       "      <th></th>\n",
       "      <th></th>\n",
       "      <th></th>\n",
       "      <th></th>\n",
       "      <th></th>\n",
       "      <th></th>\n",
       "    </tr>\n",
       "  </thead>\n",
       "  <tbody>\n",
       "    <tr>\n",
       "      <th>2014-01-02</th>\n",
       "      <td>555.68</td>\n",
       "      <td>557.03</td>\n",
       "      <td>552.021</td>\n",
       "      <td>553.1300</td>\n",
       "      <td>8381600.0</td>\n",
       "      <td>0.0</td>\n",
       "      <td>1.0</td>\n",
       "      <td>73.862376</td>\n",
       "      <td>74.041821</td>\n",
       "      <td>73.376012</td>\n",
       "      <td>73.523423</td>\n",
       "      <td>58671200.0</td>\n",
       "      <td>2014-01-02</td>\n",
       "    </tr>\n",
       "    <tr>\n",
       "      <th>2014-01-03</th>\n",
       "      <td>552.86</td>\n",
       "      <td>553.70</td>\n",
       "      <td>540.430</td>\n",
       "      <td>540.9800</td>\n",
       "      <td>14016700.0</td>\n",
       "      <td>0.0</td>\n",
       "      <td>1.0</td>\n",
       "      <td>73.487534</td>\n",
       "      <td>73.599189</td>\n",
       "      <td>71.835308</td>\n",
       "      <td>71.908415</td>\n",
       "      <td>98116900.0</td>\n",
       "      <td>2014-01-03</td>\n",
       "    </tr>\n",
       "    <tr>\n",
       "      <th>2014-01-06</th>\n",
       "      <td>537.45</td>\n",
       "      <td>546.80</td>\n",
       "      <td>533.600</td>\n",
       "      <td>543.9300</td>\n",
       "      <td>14736100.0</td>\n",
       "      <td>0.0</td>\n",
       "      <td>1.0</td>\n",
       "      <td>71.439198</td>\n",
       "      <td>72.682024</td>\n",
       "      <td>70.927447</td>\n",
       "      <td>72.300536</td>\n",
       "      <td>103152700.0</td>\n",
       "      <td>2014-01-06</td>\n",
       "    </tr>\n",
       "    <tr>\n",
       "      <th>2014-01-07</th>\n",
       "      <td>544.32</td>\n",
       "      <td>545.96</td>\n",
       "      <td>537.925</td>\n",
       "      <td>540.0375</td>\n",
       "      <td>11328900.0</td>\n",
       "      <td>0.0</td>\n",
       "      <td>1.0</td>\n",
       "      <td>72.352376</td>\n",
       "      <td>72.570369</td>\n",
       "      <td>71.502337</td>\n",
       "      <td>71.783135</td>\n",
       "      <td>79302300.0</td>\n",
       "      <td>2014-01-07</td>\n",
       "    </tr>\n",
       "    <tr>\n",
       "      <th>2014-01-08</th>\n",
       "      <td>538.81</td>\n",
       "      <td>545.56</td>\n",
       "      <td>538.690</td>\n",
       "      <td>543.4600</td>\n",
       "      <td>9233200.0</td>\n",
       "      <td>0.0</td>\n",
       "      <td>1.0</td>\n",
       "      <td>71.619973</td>\n",
       "      <td>72.517200</td>\n",
       "      <td>71.604022</td>\n",
       "      <td>72.238063</td>\n",
       "      <td>64632400.0</td>\n",
       "      <td>2014-01-08</td>\n",
       "    </tr>\n",
       "  </tbody>\n",
       "</table>\n",
       "</div>"
      ],
      "text/plain": [
       "              Open    High      Low     Close      Volume  Ex-Dividend  \\\n",
       "Date                                                                     \n",
       "2014-01-02  555.68  557.03  552.021  553.1300   8381600.0          0.0   \n",
       "2014-01-03  552.86  553.70  540.430  540.9800  14016700.0          0.0   \n",
       "2014-01-06  537.45  546.80  533.600  543.9300  14736100.0          0.0   \n",
       "2014-01-07  544.32  545.96  537.925  540.0375  11328900.0          0.0   \n",
       "2014-01-08  538.81  545.56  538.690  543.4600   9233200.0          0.0   \n",
       "\n",
       "            Split Ratio  Adj. Open  Adj. High   Adj. Low  Adj. Close  \\\n",
       "Date                                                                   \n",
       "2014-01-02          1.0  73.862376  74.041821  73.376012   73.523423   \n",
       "2014-01-03          1.0  73.487534  73.599189  71.835308   71.908415   \n",
       "2014-01-06          1.0  71.439198  72.682024  70.927447   72.300536   \n",
       "2014-01-07          1.0  72.352376  72.570369  71.502337   71.783135   \n",
       "2014-01-08          1.0  71.619973  72.517200  71.604022   72.238063   \n",
       "\n",
       "            Adj. Volume        Date  \n",
       "Date                                 \n",
       "2014-01-02   58671200.0  2014-01-02  \n",
       "2014-01-03   98116900.0  2014-01-03  \n",
       "2014-01-06  103152700.0  2014-01-06  \n",
       "2014-01-07   79302300.0  2014-01-07  \n",
       "2014-01-08   64632400.0  2014-01-08  "
      ]
     },
     "execution_count": 14,
     "metadata": {},
     "output_type": "execute_result"
    }
   ],
   "source": [
    "apl_stock.head()"
   ]
  },
  {
   "cell_type": "code",
   "execution_count": 16,
   "metadata": {},
   "outputs": [
    {
     "name": "stderr",
     "output_type": "stream",
     "text": [
      "C:\\Users\\Sri Yogesh\\Anaconda3\\lib\\site-packages\\IPython\\core\\interactiveshell.py:2963: FutureWarning: 'Date' is both an index level and a column label.\n",
      "Defaulting to column, but this will raise an ambiguity error in a future version\n",
      "  exec(code_obj, self.user_global_ns, self.user_ns)\n"
     ]
    }
   ],
   "source": [
    "apl_stock = pd.merge(apl_stock, apl_preds_lstm[['Date', 'predictions']], how='left', on = 'Date')\n",
    "\n",
    "apl_stock = pd.merge(apl_stock, nlp_state_rl[['AppleDown', 'AppleStay', 'AppleUp']], how='left', on='Date')"
   ]
  },
  {
   "cell_type": "code",
   "execution_count": 17,
   "metadata": {},
   "outputs": [
    {
     "data": {
      "text/html": [
       "<div>\n",
       "<style scoped>\n",
       "    .dataframe tbody tr th:only-of-type {\n",
       "        vertical-align: middle;\n",
       "    }\n",
       "\n",
       "    .dataframe tbody tr th {\n",
       "        vertical-align: top;\n",
       "    }\n",
       "\n",
       "    .dataframe thead th {\n",
       "        text-align: right;\n",
       "    }\n",
       "</style>\n",
       "<table border=\"1\" class=\"dataframe\">\n",
       "  <thead>\n",
       "    <tr style=\"text-align: right;\">\n",
       "      <th></th>\n",
       "      <th>Unnamed: 0</th>\n",
       "      <th>Date</th>\n",
       "      <th>predictions</th>\n",
       "      <th>ticker</th>\n",
       "    </tr>\n",
       "  </thead>\n",
       "  <tbody>\n",
       "    <tr>\n",
       "      <th>4019</th>\n",
       "      <td>2014-01-02</td>\n",
       "      <td>2014-01-02</td>\n",
       "      <td>22.785814</td>\n",
       "      <td>GE</td>\n",
       "    </tr>\n",
       "    <tr>\n",
       "      <th>4020</th>\n",
       "      <td>2014-01-03</td>\n",
       "      <td>2014-01-03</td>\n",
       "      <td>22.889317</td>\n",
       "      <td>GE</td>\n",
       "    </tr>\n",
       "    <tr>\n",
       "      <th>4021</th>\n",
       "      <td>2014-01-06</td>\n",
       "      <td>2014-01-06</td>\n",
       "      <td>22.570192</td>\n",
       "      <td>GE</td>\n",
       "    </tr>\n",
       "    <tr>\n",
       "      <th>4022</th>\n",
       "      <td>2014-01-07</td>\n",
       "      <td>2014-01-07</td>\n",
       "      <td>22.481403</td>\n",
       "      <td>GE</td>\n",
       "    </tr>\n",
       "    <tr>\n",
       "      <th>4023</th>\n",
       "      <td>2014-01-08</td>\n",
       "      <td>2014-01-08</td>\n",
       "      <td>22.333170</td>\n",
       "      <td>GE</td>\n",
       "    </tr>\n",
       "  </tbody>\n",
       "</table>\n",
       "</div>"
      ],
      "text/plain": [
       "      Unnamed: 0        Date  predictions ticker\n",
       "4019  2014-01-02  2014-01-02    22.785814     GE\n",
       "4020  2014-01-03  2014-01-03    22.889317     GE\n",
       "4021  2014-01-06  2014-01-06    22.570192     GE\n",
       "4022  2014-01-07  2014-01-07    22.481403     GE\n",
       "4023  2014-01-08  2014-01-08    22.333170     GE"
      ]
     },
     "execution_count": 17,
     "metadata": {},
     "output_type": "execute_result"
    }
   ],
   "source": [
    "ge_preds_lstm.head()"
   ]
  },
  {
   "cell_type": "code",
   "execution_count": 18,
   "metadata": {
    "scrolled": true
   },
   "outputs": [
    {
     "name": "stderr",
     "output_type": "stream",
     "text": [
      "C:\\Users\\Sri Yogesh\\Anaconda3\\lib\\site-packages\\IPython\\core\\interactiveshell.py:2963: FutureWarning: 'Date' is both an index level and a column label.\n",
      "Defaulting to column, but this will raise an ambiguity error in a future version\n",
      "  exec(code_obj, self.user_global_ns, self.user_ns)\n"
     ]
    }
   ],
   "source": [
    "ge_stock = pd.merge(ge_stock, ge_preds_lstm[['Date', 'predictions']], how='left', on = 'Date')\n",
    "\n",
    "ge_stock = pd.merge(ge_stock, nlp_state_rl[['GeDown', 'GeStay', 'GeUp']], how='left', on = 'Date')"
   ]
  },
  {
   "cell_type": "code",
   "execution_count": 19,
   "metadata": {},
   "outputs": [
    {
     "data": {
      "text/html": [
       "<div>\n",
       "<style scoped>\n",
       "    .dataframe tbody tr th:only-of-type {\n",
       "        vertical-align: middle;\n",
       "    }\n",
       "\n",
       "    .dataframe tbody tr th {\n",
       "        vertical-align: top;\n",
       "    }\n",
       "\n",
       "    .dataframe thead th {\n",
       "        text-align: right;\n",
       "    }\n",
       "</style>\n",
       "<table border=\"1\" class=\"dataframe\">\n",
       "  <thead>\n",
       "    <tr style=\"text-align: right;\">\n",
       "      <th></th>\n",
       "      <th>Open</th>\n",
       "      <th>High</th>\n",
       "      <th>Low</th>\n",
       "      <th>Close</th>\n",
       "      <th>Volume</th>\n",
       "      <th>Ex-Dividend</th>\n",
       "      <th>Split Ratio</th>\n",
       "      <th>Adj. Open</th>\n",
       "      <th>Adj. High</th>\n",
       "      <th>Adj. Low</th>\n",
       "      <th>Adj. Close</th>\n",
       "      <th>Adj. Volume</th>\n",
       "      <th>Date</th>\n",
       "      <th>predictions</th>\n",
       "      <th>GeDown</th>\n",
       "      <th>GeStay</th>\n",
       "      <th>GeUp</th>\n",
       "    </tr>\n",
       "  </thead>\n",
       "  <tbody>\n",
       "    <tr>\n",
       "      <th>0</th>\n",
       "      <td>27.86</td>\n",
       "      <td>27.940</td>\n",
       "      <td>27.41</td>\n",
       "      <td>27.50</td>\n",
       "      <td>41453700.0</td>\n",
       "      <td>0.0</td>\n",
       "      <td>1.0</td>\n",
       "      <td>24.583666</td>\n",
       "      <td>24.654258</td>\n",
       "      <td>24.186586</td>\n",
       "      <td>24.266002</td>\n",
       "      <td>41453700.0</td>\n",
       "      <td>2014-01-02</td>\n",
       "      <td>22.785814</td>\n",
       "      <td>0.0</td>\n",
       "      <td>0.0</td>\n",
       "      <td>0.0</td>\n",
       "    </tr>\n",
       "    <tr>\n",
       "      <th>1</th>\n",
       "      <td>27.52</td>\n",
       "      <td>27.600</td>\n",
       "      <td>27.41</td>\n",
       "      <td>27.48</td>\n",
       "      <td>27570800.0</td>\n",
       "      <td>0.0</td>\n",
       "      <td>1.0</td>\n",
       "      <td>24.283650</td>\n",
       "      <td>24.354242</td>\n",
       "      <td>24.186586</td>\n",
       "      <td>24.248354</td>\n",
       "      <td>27570800.0</td>\n",
       "      <td>2014-01-03</td>\n",
       "      <td>22.889317</td>\n",
       "      <td>0.0</td>\n",
       "      <td>0.0</td>\n",
       "      <td>0.0</td>\n",
       "    </tr>\n",
       "    <tr>\n",
       "      <th>2</th>\n",
       "      <td>27.66</td>\n",
       "      <td>27.725</td>\n",
       "      <td>27.15</td>\n",
       "      <td>27.26</td>\n",
       "      <td>29356600.0</td>\n",
       "      <td>0.0</td>\n",
       "      <td>1.0</td>\n",
       "      <td>24.407186</td>\n",
       "      <td>24.464542</td>\n",
       "      <td>23.957162</td>\n",
       "      <td>24.054226</td>\n",
       "      <td>29356600.0</td>\n",
       "      <td>2014-01-06</td>\n",
       "      <td>22.570192</td>\n",
       "      <td>0.0</td>\n",
       "      <td>0.0</td>\n",
       "      <td>0.0</td>\n",
       "    </tr>\n",
       "    <tr>\n",
       "      <th>3</th>\n",
       "      <td>27.48</td>\n",
       "      <td>27.490</td>\n",
       "      <td>27.21</td>\n",
       "      <td>27.29</td>\n",
       "      <td>24728000.0</td>\n",
       "      <td>0.0</td>\n",
       "      <td>1.0</td>\n",
       "      <td>24.248354</td>\n",
       "      <td>24.257178</td>\n",
       "      <td>24.010106</td>\n",
       "      <td>24.080698</td>\n",
       "      <td>24728000.0</td>\n",
       "      <td>2014-01-07</td>\n",
       "      <td>22.481403</td>\n",
       "      <td>0.0</td>\n",
       "      <td>0.0</td>\n",
       "      <td>0.0</td>\n",
       "    </tr>\n",
       "    <tr>\n",
       "      <th>4</th>\n",
       "      <td>27.35</td>\n",
       "      <td>27.360</td>\n",
       "      <td>27.12</td>\n",
       "      <td>27.21</td>\n",
       "      <td>25868900.0</td>\n",
       "      <td>0.0</td>\n",
       "      <td>1.0</td>\n",
       "      <td>24.133642</td>\n",
       "      <td>24.142466</td>\n",
       "      <td>23.930690</td>\n",
       "      <td>24.010106</td>\n",
       "      <td>25868900.0</td>\n",
       "      <td>2014-01-08</td>\n",
       "      <td>22.333170</td>\n",
       "      <td>0.0</td>\n",
       "      <td>0.0</td>\n",
       "      <td>0.0</td>\n",
       "    </tr>\n",
       "  </tbody>\n",
       "</table>\n",
       "</div>"
      ],
      "text/plain": [
       "    Open    High    Low  Close      Volume  Ex-Dividend  Split Ratio  \\\n",
       "0  27.86  27.940  27.41  27.50  41453700.0          0.0          1.0   \n",
       "1  27.52  27.600  27.41  27.48  27570800.0          0.0          1.0   \n",
       "2  27.66  27.725  27.15  27.26  29356600.0          0.0          1.0   \n",
       "3  27.48  27.490  27.21  27.29  24728000.0          0.0          1.0   \n",
       "4  27.35  27.360  27.12  27.21  25868900.0          0.0          1.0   \n",
       "\n",
       "   Adj. Open  Adj. High   Adj. Low  Adj. Close  Adj. Volume        Date  \\\n",
       "0  24.583666  24.654258  24.186586   24.266002   41453700.0  2014-01-02   \n",
       "1  24.283650  24.354242  24.186586   24.248354   27570800.0  2014-01-03   \n",
       "2  24.407186  24.464542  23.957162   24.054226   29356600.0  2014-01-06   \n",
       "3  24.248354  24.257178  24.010106   24.080698   24728000.0  2014-01-07   \n",
       "4  24.133642  24.142466  23.930690   24.010106   25868900.0  2014-01-08   \n",
       "\n",
       "   predictions  GeDown  GeStay  GeUp  \n",
       "0    22.785814     0.0     0.0   0.0  \n",
       "1    22.889317     0.0     0.0   0.0  \n",
       "2    22.570192     0.0     0.0   0.0  \n",
       "3    22.481403     0.0     0.0   0.0  \n",
       "4    22.333170     0.0     0.0   0.0  "
      ]
     },
     "execution_count": 19,
     "metadata": {},
     "output_type": "execute_result"
    }
   ],
   "source": [
    "ge_stock.head()"
   ]
  },
  {
   "cell_type": "code",
   "execution_count": 25,
   "metadata": {},
   "outputs": [],
   "source": [
    "from scipy import signal"
   ]
  },
  {
   "cell_type": "code",
   "execution_count": 26,
   "metadata": {},
   "outputs": [],
   "source": [
    "msf_open = signal.detrend(ge_open)\n",
    "msf_close = signal.detrend(ge_close)"
   ]
  },
  {
   "cell_type": "code",
   "execution_count": 27,
   "metadata": {},
   "outputs": [
    {
     "data": {
      "text/plain": [
       "[<matplotlib.lines.Line2D at 0x2905bc9c2e8>]"
      ]
     },
     "execution_count": 27,
     "metadata": {},
     "output_type": "execute_result"
    },
    {
     "data": {
      "image/png": "[encoded data removed]",
      "text/plain": [
       "<Figure size 432x288 with 1 Axes>"
      ]
     },
     "metadata": {},
     "output_type": "display_data"
    }
   ],
   "source": [
    "plt.plot(range(0,len(ge_open)), msf_oge_openpen)"
   ]
  },
  {
   "cell_type": "code",
   "execution_count": 28,
   "metadata": {},
   "outputs": [
    {
     "data": {
      "text/plain": [
       "[<matplotlib.lines.Line2D at 0x2905bcfe3c8>]"
      ]
     },
     "execution_count": 28,
     "metadata": {},
     "output_type": "execute_result"
    },
    {
     "data": {
      "image/png": "[encoded data removed]",
      "text/plain": [
       "<Figure size 432x288 with 1 Axes>"
      ]
     },
     "metadata": {},
     "output_type": "display_data"
    }
   ],
   "source": [
    "apl_open = signal.detrend(apl_open)\n",
    "apl_close = signal.detrend(apl_close)\n",
    "plt.plot(range(0, len(apl_open)), apl_open)"
   ]
  },
  {
   "cell_type": "code",
   "execution_count": 29,
   "metadata": {},
   "outputs": [
    {
     "name": "stdout",
     "output_type": "stream",
     "text": [
      "-34.32168425572118\n",
      "-34.447411978136344\n",
      "-12.275226243514874\n",
      "-12.289489806781177\n"
     ]
    }
   ],
   "source": [
    "print(apl_open.min())\n",
    "print(apl_close.min())\n",
    "print(msf_open.min())\n",
    "print(msf_close.min())"
   ]
  },
  {
   "cell_type": "markdown",
   "metadata": {},
   "source": [
    "Choose 35"
   ]
  },
  {
   "cell_type": "code",
   "execution_count": 30,
   "metadata": {},
   "outputs": [],
   "source": [
    "apl_open += 35.\n",
    "apl_close += 35.\n",
    "msf_open += 35.\n",
    "msf_close += 35."
   ]
  },
  {
   "cell_type": "code",
   "execution_count": 33,
   "metadata": {},
   "outputs": [
    {
     "data": {
      "text/plain": [
       "[<matplotlib.lines.Line2D at 0x2905bd59748>]"
      ]
     },
     "execution_count": 33,
     "metadata": {},
     "output_type": "execute_result"
    },
    {
     "data": {
      "image/png": "[encoded data removed]",
      "text/plain": [
       "<Figure size 432x288 with 1 Axes>"
      ]
     },
     "metadata": {},
     "output_type": "display_data"
    }
   ],
   "source": [
    "plt.plot(range(0,len(apl_open)), apl_open)"
   ]
  },
  {
   "cell_type": "markdown",
   "metadata": {},
   "source": [
    "# Build the environment"
   ]
  },
  {
   "cell_type": "code",
   "execution_count": 34,
   "metadata": {},
   "outputs": [],
   "source": [
    "class TradingEnvironment():\n",
    "    \n",
    "    def __init__(self, starting_cash_mean=200., max_stride=5, series_length=208, starting_point=1, randomize_cash_std=0, \\\n",
    "                 starting_shares_mean=0., randomize_shares_std=0., inaction_penalty=0.):\n",
    "        self.starting_shares_mean = starting_shares_mean\n",
    "        self.randomize_shares_std = randomize_shares_std\n",
    "        self.starting_cash_mean = starting_cash_mean\n",
    "        self.randomize_cash_std = randomize_cash_std\n",
    "        \n",
    "        self.state = torch.FloatTensor(torch.zeros(16)).cuda()\n",
    "        \n",
    "        self.starting_cash = max(int(np.random.normal(self.starting_cash_mean, self.randomize_cash_std)), 0.)\n",
    "        \n",
    "        self.series_length = series_length\n",
    "        self.starting_point = starting_point\n",
    "        self.cur_timestep = self.starting_point\n",
    "        \n",
    "        self.state[0] = max(int(np.random.normal(self.starting_shares_mean, self.randomize_shares_std)), 0.)\n",
    "        self.state[1] = max(int(np.random.normal(self.starting_shares_mean, self.randomize_shares_std)), 0.)\n",
    "        self.starting_portfolio_value = self.portfolio_value()\n",
    "        self.state[2] = self.starting_cash\n",
    "        self.state[3] = apl_open[self.cur_timestep]\n",
    "        self.state[4] = ge_open[self.cur_timestep]\n",
    "        self.state[5] = self.starting_portfolio_value\n",
    "        self.state[6] = self.five_day_window()[0]\n",
    "        self.state[7] = self.five_day_window()[1]\n",
    "        self.state[8] = apl_stock.predictions.values[self.cur_timestep + 1]\n",
    "        self.state[9] = ge_stock.predictions.values[self.cur_timestep + 1]\n",
    "        self.state[10] = apl_stock.AppleStay.values[self.cur_timestep]\n",
    "        self.state[11] = apl_stock.AppleUp.values[self.cur_timestep]\n",
    "        self.state[12] = ge_stock.predictions.values[self.cur_timestep]\n",
    "        self.state[13] = ge_stock.GeDown.values[self.cur_timestep]\n",
    "        self.state[14] = ge_stock.GeStay.values[self.cur_timestep]\n",
    "        self.state[15] = ge_stock.GeUp.values[self.cur_timestep]\n",
    "        \n",
    "        self.max_stride = max_stride\n",
    "        self.stride = self.max_stride # no longer varying it\n",
    "        \n",
    "        self.done = False\n",
    "        self.diversification_bonus = 1.\n",
    "        self.inaction_penalty = inaction_penalty\n",
    "\n",
    "    def portfolio_value(self):\n",
    "        return (self.state[0] * apl_close[self.cur_timestep]) + (self.state[1] * ge_close[self.cur_timestep]) + self.state[2]\n",
    "    \n",
    "    def next_opening_price(self):\n",
    "        step = self.cur_timestep + self.stride\n",
    "        return [apl_open[step], ge_open[step]]\n",
    "    \n",
    "    def next_predictions(self):\n",
    "        step = self.cur_timestep + self.stride\n",
    "        if step < len(apl_stock.predictions.values):\n",
    "            return [apl_stock.predictions.values[step + 1], apl_stock.AppleDown.values[step + 1],\n",
    "                apl_stock.AppleStay.values[step], apl_stock.AppleUp.values[step],\n",
    "                ge_stock.predictions.values[step], ge_stock.GeDown.values[step],\n",
    "                ge_stock.GeStay.values[step], ge_stock.GeUp.values[step]\n",
    "               ]\n",
    "        return [apl_stock.predictions.values[step], apl_stock.AppleDown.values[step],\n",
    "                apl_stock.AppleStay.values[step], apl_stock.AppleUp.values[step],\n",
    "                ge_stock.predictions.values[step], ge_stock.GeDown.values[step],\n",
    "                ge_stock.GeStay.values[step], ge_stock.GeUp.values[step]\n",
    "               ]\n",
    "    \n",
    "    def five_day_window(self):\n",
    "        step = self.cur_timestep\n",
    "        if step < 5:\n",
    "            return [apl_open[0], msf_open[0]]\n",
    "        apl5 = apl_open[step-5:step].mean()\n",
    "        ge5 = ge_open[step-5:step].mean()\n",
    "        return [apl5,ge5]\n",
    "    \n",
    "    def step(self, action):\n",
    "        action = [action, 1.]\n",
    "        cur_timestep = self.cur_timestep\n",
    "        ts_left = self.series_length - (cur_timestep - self.starting_point)\n",
    "        retval = None\n",
    "        cur_value = self.portfolio_value()\n",
    "        gain = cur_value - self.starting_portfolio_value\n",
    "        \n",
    "        if cur_timestep >= self.starting_point + (self.series_length * self.stride):\n",
    "            new_state = [self.state[0], self.state[1], self.state[2], *self.next_opening_price(), \\\n",
    "                        cur_value, *self.five_day_window(), *self.next_predictions()]\n",
    "            self.state = new_state\n",
    "            bonus = 0.\n",
    "            if self.state[0] > 0 and self.state[1] > 0:\n",
    "                bonus = self.diversification_bonus\n",
    "            return new_state, cur_value + bonus + gain, True, { \"msg\": \"done\"}\n",
    "        \n",
    "        if action[0] == 2:\n",
    "            new_state = [self.state[0], self.state[1], self.state[2], *self.next_opening_price(), \\\n",
    "                    cur_value, *self.five_day_window(), *self.next_predictions()]\n",
    "            self.state = new_state\n",
    "            retval = new_state, -self.inaction_penalty - ts_left + gain, False, { \"msg\": \"nothing\" }\n",
    "            \n",
    "        if action[0] == 0:\n",
    "            if action[1] * apl_open[cur_timestep] > self.state[2]:\n",
    "                new_state = [self.state[0], self.state[1], self.state[2], *self.next_opening_price(), \\\n",
    "                        cur_value, *self.five_day_window(), *self.next_predictions()]\n",
    "                self.state = new_state\n",
    "                retval = new_state, -ts_left+gain/2, True, { \"msg\": \"bankrupted self\"}\n",
    "            else:\n",
    "                apl_shares = self.state[0] + action[1]\n",
    "                cash_spent = action[1] * apl_open[cur_timestep] * 1.1\n",
    "                new_state = [apl_shares, self.state[1], self.state[2] - cash_spent, *self.next_opening_price(), \\\n",
    "                       cur_value, *self.five_day_window(), *self.next_predictions()]\n",
    "                self.state = new_state\n",
    "                retval = new_state, self.inaction_penalty-ts_left+gain, False, { \"msg\": \"bought AAPL\"}\n",
    "                \n",
    "        if action[0] == 3:\n",
    "            if action[1] * msf_open[cur_timestep] > self.state[2]:\n",
    "                new_state = [self.state[0], self.state[1], self.state[2], *self.next_opening_price(), \\\n",
    "                        cur_value, *self.five_day_window(), *self.next_predictions()]\n",
    "                self.state = new_state\n",
    "                retval =  new_state, -ts_left+gain/2, True, { \"msg\": \"bankrupted self\"}\n",
    "            else:\n",
    "                msf_shares = self.state[1] + action[1]\n",
    "                cash_spent = action[1] * msf_open[cur_timestep] * 1.1\n",
    "                new_state = [self.state[0], msf_shares, self.state[2] - cash_spent, *self.next_opening_price(), \\\n",
    "                       cur_value, *self.five_day_window(), *self.next_predictions()]\n",
    "                self.state = new_state\n",
    "                retval = new_state, self.inaction_penalty-ts_left+gain, False, { \"msg\": \"bought GE\"}\n",
    "        \n",
    "\n",
    "        if action[0] == 1:\n",
    "            if action[1] > self.state[0]:\n",
    "                new_state = [self.state[0], self.state[1], self.state[2], *self.next_opening_price(), \\\n",
    "                        cur_value, *self.five_day_window(), *self.next_predictions()]\n",
    "                self.state = new_state\n",
    "                retval = new_state, -ts_left+gain/2, True, { \"msg\": \"sold more than have\"}\n",
    "            else:\n",
    "                apl_shares = self.state[0] - action[1]\n",
    "                cash_gained = action[1] * apl_open[cur_timestep] * 0.9\n",
    "                new_state = [apl_shares, self.state[1], self.state[2] + cash_gained, *self.next_opening_price(), \\\n",
    "                       cur_value, *self.five_day_window(), *self.next_predictions()]\n",
    "                self.state = new_state\n",
    "                retval = new_state, self.inaction_penalty-ts_left+gain, False, { \"msg\": \"sold AAPL\"}\n",
    "                \n",
    "        if action[0] == 4:\n",
    "            if action[1] > self.state[1]:\n",
    "                new_state = [self.state[0], self.state[1], self.state[2], *self.next_opening_price(), \\\n",
    "                        cur_value, *self.five_day_window(), *self.next_predictions()]\n",
    "                self.state = new_state\n",
    "                retval = new_state, -ts_left+gain/2, True, { \"msg\": \"sold more than have\"}\n",
    "            else:\n",
    "                msf_shares = self.state[1] - action[1]\n",
    "                cash_gained = action[1] * msf_open[cur_timestep] * 0.9\n",
    "                new_state = [self.state[0], msf_shares, self.state[2] + cash_gained, *self.next_opening_price(), \\\n",
    "                       cur_value, *self.five_day_window(), *self.next_predictions()]\n",
    "                self.state = new_state\n",
    "                retval = new_state, self.inaction_penalty-ts_left+gain, False, { \"msg\": \"sold GE\"}\n",
    "                \n",
    "        self.cur_timestep += self.stride\n",
    "        return retval\n",
    "    \n",
    "    def reset(self):\n",
    "        self.state = torch.FloatTensor(torch.zeros(16)).cuda()\n",
    "        self.starting_cash = max(int(np.random.normal(self.starting_cash_mean, self.randomize_cash_std)), 0.)\n",
    "        self.cur_timestep = self.starting_point\n",
    "        self.state[0] = max(int(np.random.normal(self.starting_shares_mean, self.randomize_shares_std)), 0.)\n",
    "        self.state[1] = max(int(np.random.normal(self.starting_shares_mean, self.randomize_shares_std)), 0.)\n",
    "        self.state[2] = self.starting_cash\n",
    "        self.state[3] = apl_open[self.cur_timestep]\n",
    "        self.state[4] = ge_open[self.cur_timestep]\n",
    "        self.starting_portfolio_value = self.portfolio_value()\n",
    "        self.state[5] = self.starting_portfolio_value\n",
    "        self.state[6] = self.five_day_window()[0]\n",
    "        self.state[7] = self.five_day_window()[1]\n",
    "        self.state[8] = apl_stock.predictions.values[self.cur_timestep + 1]\n",
    "        self.state[9] = ge_stock.predictions.values[self.cur_timestep + 1]\n",
    "        self.state[10] = apl_stock.AppleStay.values[self.cur_timestep]\n",
    "        self.state[11] = apl_stock.AppleUp.values[self.cur_timestep]\n",
    "        self.state[12] = ge_stock.predictions.values[self.cur_timestep]\n",
    "        self.state[13] = ge_stock.GeDown.values[self.cur_timestep]\n",
    "        self.state[14] = ge_stock.GeStay.values[self.cur_timestep]\n",
    "        self.state[15] = ge_stock.GeUp.values[self.cur_timestep]\n",
    "        self.done = False\n",
    "        return self.state"
   ]
  },
  {
   "cell_type": "code",
   "execution_count": 35,
   "metadata": {},
   "outputs": [],
   "source": [
    "class Policy(nn.Module):\n",
    "    def __init__(self):\n",
    "        super(Policy, self).__init__()\n",
    "        self.input_layer = nn.Linear(16, 128)\n",
    "        self.hidden_1 = nn.Linear(128, 128)\n",
    "        self.hidden_2 = nn.Linear(32,31)\n",
    "        self.hidden_state = torch.tensor(torch.zeros(2,1,32)).cuda()\n",
    "        self.rnn = nn.GRU(128, 32, 2)\n",
    "        self.action_head = nn.Linear(31, 5)\n",
    "        self.value_head = nn.Linear(31, 1)\n",
    "        self.saved_actions = []\n",
    "        self.rewards = []\n",
    "\n",
    "    def reset_hidden(self):\n",
    "        self.hidden_state = torch.tensor(torch.zeros(2,1,32)).cuda()\n",
    "        \n",
    "    def forward(self, x):\n",
    "        x = torch.tensor(x).cuda()\n",
    "        x = torch.sigmoid(self.input_layer(x))\n",
    "        x = torch.tanh(self.hidden_1(x))\n",
    "        x, self.hidden_state = self.rnn(x.view(1,-1,128), self.hidden_state.data)\n",
    "        x = F.relu(self.hidden_2(x.squeeze()))\n",
    "        action_scores = self.action_head(x)\n",
    "        state_values = self.value_head(x)\n",
    "        return F.softmax(action_scores, dim=-1), state_values\n",
    "    \n",
    "    def act(self, state):\n",
    "        probs, state_value = self.forward(state)\n",
    "        m = Categorical(probs)\n",
    "        action = m.sample()\n",
    "        if action == 1 and env.state[0] < 1: action = torch.LongTensor([2]).squeeze().cuda()\n",
    "        if action == 4 and env.state[1] < 1: action = torch.LongTensor([2]).squeeze().cuda()\n",
    "        self.saved_actions.append((m.log_prob(action), state_value))\n",
    "        return action.item()"
   ]
  },
  {
   "cell_type": "code",
   "execution_count": 36,
   "metadata": {},
   "outputs": [
    {
     "name": "stderr",
     "output_type": "stream",
     "text": [
      "C:\\Users\\Sri Yogesh\\Anaconda3\\lib\\site-packages\\ipykernel_launcher.py:7: UserWarning: To copy construct from a tensor, it is recommended to use sourceTensor.clone().detach() or sourceTensor.clone().detach().requires_grad_(True), rather than torch.tensor(sourceTensor).\n",
      "  import sys\n"
     ]
    }
   ],
   "source": [
    "env = TradingEnvironment(max_stride=4, series_length=250, starting_cash_mean=1000, randomize_cash_std=100, starting_shares_mean=100, randomize_shares_std=10)\n",
    "model = Policy().cuda()\n",
    "optimizer = optim.Adam(model.parameters(), lr=3e-4)"
   ]
  },
  {
   "cell_type": "code",
   "execution_count": 37,
   "metadata": {},
   "outputs": [
    {
     "name": "stderr",
     "output_type": "stream",
     "text": [
      "C:\\Users\\Sri Yogesh\\Anaconda3\\lib\\site-packages\\ipykernel_launcher.py:18: UserWarning: To copy construct from a tensor, it is recommended to use sourceTensor.clone().detach() or sourceTensor.clone().detach().requires_grad_(True), rather than torch.tensor(sourceTensor).\n",
      "C:\\Users\\Sri Yogesh\\Anaconda3\\lib\\site-packages\\ipykernel_launcher.py:28: UserWarning: To copy construct from a tensor, it is recommended to use sourceTensor.clone().detach() or sourceTensor.clone().detach().requires_grad_(True), rather than torch.tensor(sourceTensor).\n"
     ]
    },
    {
     "name": "stdout",
     "output_type": "stream",
     "text": [
      "Episode 0: started at 7500.2, finished at 8536.7 because done @ t=1001, last reward 9574.2, running reward 159.6\n",
      "Episode 60: started at 6832.9, finished at 8353.7 because done @ t=1001, last reward 9875.5, running reward 2861.7\n",
      "Episode 120: started at 7698.6, finished at 8844.9 because bankrupted self @ t=817, last reward 968.6, running reward 4461.6\n",
      "Episode 180: started at 7596.0, finished at 8140.2 because bankrupted self @ t=457, last reward 364.1, running reward 4816.4\n",
      "Episode 240: started at 7380.9, finished at 5217.4 because bankrupted self @ t=529, last reward -700.8, running reward 5536.8\n",
      "Episode 300: started at 6971.5, finished at 7366.6 because done @ t=1001, last reward 7762.6, running reward 4710.4\n",
      "Episode 360: started at 7599.0, finished at 8727.9 because bankrupted self @ t=925, last reward 1301.3, running reward 5130.8\n"
     ]
    },
    {
     "ename": "KeyboardInterrupt",
     "evalue": "",
     "output_type": "error",
     "traceback": [
      "\u001b[1;31m---------------------------------------------------------------------------\u001b[0m",
      "\u001b[1;31mKeyboardInterrupt\u001b[0m                         Traceback (most recent call last)",
      "\u001b[1;32m<ipython-input-37-19d1dc057b15>\u001b[0m in \u001b[0;36m<module>\u001b[1;34m()\u001b[0m\n\u001b[0;32m     51\u001b[0m             \u001b[1;32mbreak\u001b[0m\u001b[1;33m\u001b[0m\u001b[0m\n\u001b[0;32m     52\u001b[0m     \u001b[0mrunning_reward\u001b[0m \u001b[1;33m=\u001b[0m \u001b[0mrunning_reward\u001b[0m \u001b[1;33m*\u001b[0m \u001b[1;33m(\u001b[0m\u001b[1;36m1\u001b[0m \u001b[1;33m-\u001b[0m \u001b[1;36m1\u001b[0m\u001b[1;33m/\u001b[0m\u001b[0mlog_interval\u001b[0m\u001b[1;33m)\u001b[0m \u001b[1;33m+\u001b[0m \u001b[0mreward\u001b[0m \u001b[1;33m*\u001b[0m \u001b[1;33m(\u001b[0m\u001b[1;36m1\u001b[0m\u001b[1;33m/\u001b[0m\u001b[0mlog_interval\u001b[0m\u001b[1;33m)\u001b[0m\u001b[1;33m\u001b[0m\u001b[0m\n\u001b[1;32m---> 53\u001b[1;33m     \u001b[0mfinish_episode\u001b[0m\u001b[1;33m(\u001b[0m\u001b[1;33m)\u001b[0m\u001b[1;33m\u001b[0m\u001b[0m\n\u001b[0m\u001b[0;32m     54\u001b[0m     \u001b[1;31m# Resetting the hidden state seems unnecessary - it's effectively random from the previous\u001b[0m\u001b[1;33m\u001b[0m\u001b[1;33m\u001b[0m\u001b[0m\n\u001b[0;32m     55\u001b[0m     \u001b[1;31m# episode anyway, more random than a bunch of zeros.\u001b[0m\u001b[1;33m\u001b[0m\u001b[1;33m\u001b[0m\u001b[0m\n",
      "\u001b[1;32m<ipython-input-37-19d1dc057b15>\u001b[0m in \u001b[0;36mfinish_episode\u001b[1;34m()\u001b[0m\n\u001b[0;32m     33\u001b[0m     \u001b[0mloss\u001b[0m \u001b[1;33m=\u001b[0m \u001b[0mtorch\u001b[0m\u001b[1;33m.\u001b[0m\u001b[0mstack\u001b[0m\u001b[1;33m(\u001b[0m\u001b[0mpolicy_losses\u001b[0m\u001b[1;33m)\u001b[0m\u001b[1;33m.\u001b[0m\u001b[0msum\u001b[0m\u001b[1;33m(\u001b[0m\u001b[1;33m)\u001b[0m \u001b[1;33m+\u001b[0m \u001b[0mtorch\u001b[0m\u001b[1;33m.\u001b[0m\u001b[0mstack\u001b[0m\u001b[1;33m(\u001b[0m\u001b[0mvalue_losses\u001b[0m\u001b[1;33m)\u001b[0m\u001b[1;33m.\u001b[0m\u001b[0msum\u001b[0m\u001b[1;33m(\u001b[0m\u001b[1;33m)\u001b[0m\u001b[1;33m\u001b[0m\u001b[0m\n\u001b[0;32m     34\u001b[0m     \u001b[0mloss\u001b[0m \u001b[1;33m=\u001b[0m \u001b[0mtorch\u001b[0m\u001b[1;33m.\u001b[0m\u001b[0mclamp\u001b[0m\u001b[1;33m(\u001b[0m\u001b[0mloss\u001b[0m\u001b[1;33m,\u001b[0m \u001b[1;33m-\u001b[0m\u001b[1;36m1e-5\u001b[0m\u001b[1;33m,\u001b[0m \u001b[1;36m1e5\u001b[0m\u001b[1;33m)\u001b[0m\u001b[1;33m\u001b[0m\u001b[0m\n\u001b[1;32m---> 35\u001b[1;33m     \u001b[0mloss\u001b[0m\u001b[1;33m.\u001b[0m\u001b[0mbackward\u001b[0m\u001b[1;33m(\u001b[0m\u001b[1;33m)\u001b[0m\u001b[1;33m\u001b[0m\u001b[0m\n\u001b[0m\u001b[0;32m     36\u001b[0m     \u001b[0moptimizer\u001b[0m\u001b[1;33m.\u001b[0m\u001b[0mstep\u001b[0m\u001b[1;33m(\u001b[0m\u001b[1;33m)\u001b[0m\u001b[1;33m\u001b[0m\u001b[0m\n\u001b[0;32m     37\u001b[0m     \u001b[1;32mdel\u001b[0m \u001b[0mmodel\u001b[0m\u001b[1;33m.\u001b[0m\u001b[0mrewards\u001b[0m\u001b[1;33m[\u001b[0m\u001b[1;33m:\u001b[0m\u001b[1;33m]\u001b[0m\u001b[1;33m\u001b[0m\u001b[0m\n",
      "\u001b[1;32m~\\Anaconda3\\lib\\site-packages\\torch\\tensor.py\u001b[0m in \u001b[0;36mbackward\u001b[1;34m(self, gradient, retain_graph, create_graph)\u001b[0m\n\u001b[0;32m    100\u001b[0m                 \u001b[0mproducts\u001b[0m\u001b[1;33m.\u001b[0m \u001b[0mDefaults\u001b[0m \u001b[0mto\u001b[0m\u001b[0;31m \u001b[0m\u001b[0;31m`\u001b[0m\u001b[0;31m`\u001b[0m\u001b[1;32mFalse\u001b[0m\u001b[0;31m`\u001b[0m\u001b[0;31m`\u001b[0m\u001b[1;33m.\u001b[0m\u001b[1;33m\u001b[0m\u001b[0m\n\u001b[0;32m    101\u001b[0m         \"\"\"\n\u001b[1;32m--> 102\u001b[1;33m         \u001b[0mtorch\u001b[0m\u001b[1;33m.\u001b[0m\u001b[0mautograd\u001b[0m\u001b[1;33m.\u001b[0m\u001b[0mbackward\u001b[0m\u001b[1;33m(\u001b[0m\u001b[0mself\u001b[0m\u001b[1;33m,\u001b[0m \u001b[0mgradient\u001b[0m\u001b[1;33m,\u001b[0m \u001b[0mretain_graph\u001b[0m\u001b[1;33m,\u001b[0m \u001b[0mcreate_graph\u001b[0m\u001b[1;33m)\u001b[0m\u001b[1;33m\u001b[0m\u001b[0m\n\u001b[0m\u001b[0;32m    103\u001b[0m \u001b[1;33m\u001b[0m\u001b[0m\n\u001b[0;32m    104\u001b[0m     \u001b[1;32mdef\u001b[0m \u001b[0mregister_hook\u001b[0m\u001b[1;33m(\u001b[0m\u001b[0mself\u001b[0m\u001b[1;33m,\u001b[0m \u001b[0mhook\u001b[0m\u001b[1;33m)\u001b[0m\u001b[1;33m:\u001b[0m\u001b[1;33m\u001b[0m\u001b[0m\n",
      "\u001b[1;32m~\\Anaconda3\\lib\\site-packages\\torch\\autograd\\__init__.py\u001b[0m in \u001b[0;36mbackward\u001b[1;34m(tensors, grad_tensors, retain_graph, create_graph, grad_variables)\u001b[0m\n\u001b[0;32m     88\u001b[0m     Variable._execution_engine.run_backward(\n\u001b[0;32m     89\u001b[0m         \u001b[0mtensors\u001b[0m\u001b[1;33m,\u001b[0m \u001b[0mgrad_tensors\u001b[0m\u001b[1;33m,\u001b[0m \u001b[0mretain_graph\u001b[0m\u001b[1;33m,\u001b[0m \u001b[0mcreate_graph\u001b[0m\u001b[1;33m,\u001b[0m\u001b[1;33m\u001b[0m\u001b[0m\n\u001b[1;32m---> 90\u001b[1;33m         allow_unreachable=True)  # allow_unreachable flag\n\u001b[0m\u001b[0;32m     91\u001b[0m \u001b[1;33m\u001b[0m\u001b[0m\n\u001b[0;32m     92\u001b[0m \u001b[1;33m\u001b[0m\u001b[0m\n",
      "\u001b[1;31mKeyboardInterrupt\u001b[0m: "
     ]
    }
   ],
   "source": [
    "env.reset()\n",
    "# In case you're running this a second time with the same model, delete the gradients\n",
    "del model.rewards[:]\n",
    "del model.saved_actions[:]\n",
    "\n",
    "gamma = 0.9\n",
    "log_interval = 60\n",
    "\n",
    "def finish_episode():\n",
    "    R = 0\n",
    "    saved_actions = model.saved_actions\n",
    "    policy_losses = []\n",
    "    value_losses = []\n",
    "    rewards = []\n",
    "    for r in model.rewards[::-1]:\n",
    "        R = r + (gamma * R)\n",
    "        rewards.insert(0, R)\n",
    "    rewards = torch.tensor(rewards)\n",
    "    \n",
    "    epsilon = (torch.rand(1) / 1e4) - 5e-5\n",
    "    # With different architectures, I found the following standardization step sometimes\n",
    "    # helpful, sometimes unhelpful.\n",
    "    # rewards = (rewards - rewards.mean()) / (rewards.std(unbiased=False) + epsilon)\n",
    "    # Alternatively, comment it out and use the following line instead:\n",
    "    rewards += epsilon\n",
    "    \n",
    "    for (log_prob, value), r in zip(saved_actions, rewards):\n",
    "        reward = torch.tensor(r - value.item()).cuda()\n",
    "        policy_losses.append(-log_prob * reward)\n",
    "        value_losses.append(F.smooth_l1_loss(value, torch.tensor([r]).cuda()))\n",
    "        \n",
    "    optimizer.zero_grad()\n",
    "    loss = torch.stack(policy_losses).sum() + torch.stack(value_losses).sum()\n",
    "    loss = torch.clamp(loss, -1e-5, 1e5)\n",
    "    loss.backward()\n",
    "    optimizer.step()\n",
    "    del model.rewards[:]\n",
    "    del model.saved_actions[:]\n",
    "\n",
    "running_reward = 0\n",
    "for episode in range(0, 4000):\n",
    "    state = env.reset()\n",
    "    reward = 0\n",
    "    done = False\n",
    "    msg = None\n",
    "    while not done:\n",
    "        action = model.act(state)\n",
    "        state, reward, done, msg = env.step(action)\n",
    "        model.rewards.append(reward)\n",
    "        if done:\n",
    "            break\n",
    "    running_reward = running_reward * (1 - 1/log_interval) + reward * (1/log_interval)\n",
    "    finish_episode()\n",
    "    # Resetting the hidden state seems unnecessary - it's effectively random from the previous\n",
    "    # episode anyway, more random than a bunch of zeros.\n",
    "    # model.reset_hidden()\n",
    "    if msg[\"msg\"] == \"done\" and env.portfolio_value() > env.starting_portfolio_value * 1.4 and running_reward > 500:\n",
    "        print(\"Early Stopping: \" + str(int(reward)))\n",
    "        break\n",
    "    if episode % log_interval == 0:\n",
    "        print(\"\"\"Episode {}: started at {:.1f}, finished at {:.1f} because {} @ t={}, \\\n",
    "last reward {:.1f}, running reward {:.1f}\"\"\".format(episode, env.starting_portfolio_value, \\\n",
    "              env.portfolio_value(), msg[\"msg\"], env.cur_timestep, reward, running_reward))"
   ]
  },
  {
   "cell_type": "code",
   "execution_count": 41,
   "metadata": {
    "scrolled": false
   },
   "outputs": [
    {
     "name": "stderr",
     "output_type": "stream",
     "text": [
      "C:\\Users\\Sri Yogesh\\Anaconda3\\lib\\site-packages\\ipykernel_launcher.py:18: TracerWarning: torch.tensor results are registered as constants in the trace. You can safely ignore this warning if you use this function to create tensors out of constant variables that would be the same every time you call this function. In any other case, this might cause the trace to be incorrect.\n",
      "C:\\Users\\Sri Yogesh\\Anaconda3\\lib\\site-packages\\ipykernel_launcher.py:18: UserWarning: To copy construct from a tensor, it is recommended to use sourceTensor.clone().detach() or sourceTensor.clone().detach().requires_grad_(True), rather than torch.tensor(sourceTensor).\n",
      "\n",
      "(dot.exe:20816): Pango-WARNING **: couldn't load font \"Times Not-Rotated 10\", falling back to \"Sans Not-Rotated 10\", expect ugly output.\n"
     ]
    }
   ],
   "source": [
    "import hiddenlayer as hl\n",
    "\n",
    "h1 = hl.build_graph(model, torch.zeros([1, 16]))\n",
    "\n",
    "h1.save('rl_model.png', format='png')"
   ]
  },
  {
   "cell_type": "markdown",
   "metadata": {},
   "source": [
    "## Check on Train Data"
   ]
  },
  {
   "cell_type": "code",
   "execution_count": 42,
   "metadata": {},
   "outputs": [
    {
     "name": "stderr",
     "output_type": "stream",
     "text": [
      "C:\\Users\\Sri Yogesh\\Anaconda3\\lib\\site-packages\\ipykernel_launcher.py:18: UserWarning: To copy construct from a tensor, it is recommended to use sourceTensor.clone().detach() or sourceTensor.clone().detach().requires_grad_(True), rather than torch.tensor(sourceTensor).\n"
     ]
    },
    {
     "name": "stdout",
     "output_type": "stream",
     "text": [
      "Failed goes: 20 / 50, Avg Rewards per successful game: 8421.6708984375\n",
      "Avg % profit per game: 0.08653195947408676\n",
      "Avg % profit per finished game: 0.14421994984149933\n"
     ]
    }
   ],
   "source": [
    "env = TradingEnvironment(max_stride=4, series_length=250, starting_cash_mean=1000, randomize_cash_std=100, starting_shares_mean=100, randomize_shares_std=10)\n",
    "\n",
    "total_rewards = 0\n",
    "total_profits = 0\n",
    "failed_goes = 0\n",
    "num_goes = 50\n",
    "\n",
    "for j in range(num_goes):\n",
    "    env.reset()\n",
    "    reward_this_go = -1e8\n",
    "    for i in range(0,env.series_length + 1):\n",
    "        action = model.act(env.state)\n",
    "        next_state, reward, done, msg = env.step(action)\n",
    "        if msg[\"msg\"] == \"done\":\n",
    "            reward_this_go = env.portfolio_value()\n",
    "            break\n",
    "        if done:\n",
    "            break\n",
    "    total_profits += (env.portfolio_value() - env.starting_portfolio_value) / env.starting_portfolio_value\n",
    "    if reward_this_go == -1e8:\n",
    "        failed_goes += 1\n",
    "    else:\n",
    "        total_rewards += reward_this_go\n",
    "\n",
    "if failed_goes == num_goes:\n",
    "    print(\"Failed all\")\n",
    "else:\n",
    "    print(\"Failed goes: {} / {}, Avg Rewards per successful game: {}\".format(failed_goes, num_goes, total_rewards / (num_goes - failed_goes)))\n",
    "    print(\"Avg % profit per game: {}\".format(total_profits / num_goes))\n",
    "    print(\"Avg % profit per finished game: {}\".format(total_profits / (num_goes - failed_goes)))"
   ]
  },
  {
   "cell_type": "markdown",
   "metadata": {},
   "source": [
    "## _Sample Run_"
   ]
  },
  {
   "cell_type": "code",
   "execution_count": 43,
   "metadata": {},
   "outputs": [
    {
     "name": "stdout",
     "output_type": "stream",
     "text": [
      "starting portfolio value 7802.861328125\n",
      "sold AAPL, have 114.0 aapl and 97.0 GE and 1008.7981567382812 cash\n",
      "nothing, have 114.0 aapl and 97.0 GE and 1008.7981567382812 cash\n",
      "bought AAPL, have 115.0 aapl and 97.0 GE and 974.1239624023438 cash\n",
      "sold AAPL, have 114.0 aapl and 97.0 GE and 1001.9021606445312 cash\n",
      "bought GE, have 114.0 aapl and 98.0 GE and 966.3832397460938 cash\n",
      "sold AAPL, have 113.0 aapl and 98.0 GE and 987.4376831054688 cash\n",
      "bought AAPL, have 114.0 aapl and 98.0 GE and 959.0685424804688 cash\n",
      "bought AAPL, have 115.0 aapl and 98.0 GE and 928.9262084960938 cash\n",
      "sold AAPL, have 114.0 aapl and 98.0 GE and 953.1168212890625 cash\n",
      "nothing, have 114.0 aapl and 98.0 GE and 953.1168212890625 cash\n",
      "nothing, have 114.0 aapl and 98.0 GE and 953.1168212890625 cash\n",
      "bought AAPL, have 115.0 aapl and 98.0 GE and 925.218994140625 cash\n",
      "sold AAPL, have 114.0 aapl and 98.0 GE and 947.8432006835938 cash\n",
      "nothing, have 114.0 aapl and 98.0 GE and 947.8432006835938 cash\n",
      "sold GE, have 114.0 aapl and 97.0 GE and 977.4249877929688 cash\n",
      "sold AAPL, have 113.0 aapl and 97.0 GE and 1000.4326782226562 cash\n",
      "sold GE, have 113.0 aapl and 96.0 GE and 1030.1689453125 cash\n",
      "sold GE, have 113.0 aapl and 95.0 GE and 1059.51904296875 cash\n",
      "nothing, have 113.0 aapl and 95.0 GE and 1059.51904296875 cash\n",
      "sold GE, have 113.0 aapl and 94.0 GE and 1089.7257080078125 cash\n",
      "sold GE, have 113.0 aapl and 93.0 GE and 1120.26611328125 cash\n",
      "nothing, have 113.0 aapl and 93.0 GE and 1120.26611328125 cash\n",
      "bought AAPL, have 114.0 aapl and 93.0 GE and 1086.5263671875 cash\n",
      "bought AAPL, have 115.0 aapl and 93.0 GE and 1052.9210205078125 cash\n",
      "bought AAPL, have 116.0 aapl and 93.0 GE and 1016.8054809570312 cash\n",
      "nothing, have 116.0 aapl and 93.0 GE and 1016.8054809570312 cash\n",
      "sold AAPL, have 115.0 aapl and 93.0 GE and 1049.8065185546875 cash\n",
      "nothing, have 115.0 aapl and 93.0 GE and 1049.8065185546875 cash\n",
      "sold AAPL, have 114.0 aapl and 93.0 GE and 1082.69677734375 cash\n",
      "bought AAPL, have 115.0 aapl and 93.0 GE and 1042.437255859375 cash\n",
      "bought GE, have 115.0 aapl and 94.0 GE and 1005.364501953125 cash\n",
      "bought GE, have 115.0 aapl and 95.0 GE and 968.4007568359375 cash\n",
      "sold AAPL, have 114.0 aapl and 95.0 GE and 1003.8015747070312 cash\n"
     ]
    },
    {
     "name": "stderr",
     "output_type": "stream",
     "text": [
      "C:\\Users\\Sri Yogesh\\Anaconda3\\lib\\site-packages\\ipykernel_launcher.py:18: UserWarning: To copy construct from a tensor, it is recommended to use sourceTensor.clone().detach() or sourceTensor.clone().detach().requires_grad_(True), rather than torch.tensor(sourceTensor).\n"
     ]
    },
    {
     "name": "stdout",
     "output_type": "stream",
     "text": [
      "nothing, have 114.0 aapl and 95.0 GE and 1003.8015747070312 cash\n",
      "nothing, have 114.0 aapl and 95.0 GE and 1003.8015747070312 cash\n",
      "bought AAPL, have 115.0 aapl and 95.0 GE and 959.9237670898438 cash\n",
      "sold GE, have 115.0 aapl and 94.0 GE and 989.4777221679688 cash\n",
      "sold AAPL, have 114.0 aapl and 94.0 GE and 1022.9745483398438 cash\n",
      "sold AAPL, have 113.0 aapl and 94.0 GE and 1057.375732421875 cash\n",
      "nothing, have 113.0 aapl and 94.0 GE and 1057.375732421875 cash\n",
      "bought GE, have 113.0 aapl and 95.0 GE and 1020.3154296875 cash\n",
      "sold GE, have 113.0 aapl and 94.0 GE and 1050.3682861328125 cash\n",
      "bought GE, have 113.0 aapl and 95.0 GE and 1013.6690673828125 cash\n",
      "nothing, have 113.0 aapl and 95.0 GE and 1013.6690673828125 cash\n",
      "sold GE, have 113.0 aapl and 94.0 GE and 1043.65234375 cash\n",
      "bought AAPL, have 114.0 aapl and 94.0 GE and 997.4658203125 cash\n",
      "nothing, have 114.0 aapl and 94.0 GE and 997.4658203125 cash\n",
      "sold GE, have 114.0 aapl and 93.0 GE and 1026.8214111328125 cash\n",
      "nothing, have 114.0 aapl and 93.0 GE and 1026.8214111328125 cash\n",
      "bought AAPL, have 115.0 aapl and 93.0 GE and 983.4403686523438 cash\n",
      "nothing, have 115.0 aapl and 93.0 GE and 983.4403686523438 cash\n",
      "bought AAPL, have 116.0 aapl and 93.0 GE and 935.4176025390625 cash\n",
      "sold GE, have 116.0 aapl and 92.0 GE and 965.029052734375 cash\n",
      "sold AAPL, have 115.0 aapl and 92.0 GE and 1007.335205078125 cash\n",
      "sold AAPL, have 114.0 aapl and 92.0 GE and 1049.0247802734375 cash\n",
      "sold GE, have 114.0 aapl and 91.0 GE and 1079.610595703125 cash\n",
      "sold AAPL, have 113.0 aapl and 91.0 GE and 1128.7159423828125 cash\n",
      "sold GE, have 113.0 aapl and 90.0 GE and 1159.6182861328125 cash\n",
      "sold AAPL, have 112.0 aapl and 90.0 GE and 1206.6444091796875 cash\n",
      "bought GE, have 112.0 aapl and 91.0 GE and 1170.14892578125 cash\n",
      "bought AAPL, have 113.0 aapl and 91.0 GE and 1123.6397705078125 cash\n",
      "sold AAPL, have 112.0 aapl and 91.0 GE and 1166.6470947265625 cash\n",
      "sold AAPL, have 111.0 aapl and 91.0 GE and 1210.86474609375 cash\n",
      "sold AAPL, have 110.0 aapl and 91.0 GE and 1249.8758544921875 cash\n",
      "bought GE, have 110.0 aapl and 92.0 GE and 1214.5306396484375 cash\n",
      "sold AAPL, have 109.0 aapl and 92.0 GE and 1254.5675048828125 cash\n",
      "nothing, have 109.0 aapl and 92.0 GE and 1254.5675048828125 cash\n",
      "bought AAPL, have 110.0 aapl and 92.0 GE and 1197.873291015625 cash\n",
      "bought GE, have 110.0 aapl and 93.0 GE and 1162.733154296875 cash\n",
      "sold AAPL, have 109.0 aapl and 93.0 GE and 1209.4385986328125 cash\n",
      "nothing, have 109.0 aapl and 93.0 GE and 1209.4385986328125 cash\n",
      "bought GE, have 109.0 aapl and 94.0 GE and 1173.6136474609375 cash\n",
      "nothing, have 109.0 aapl and 94.0 GE and 1173.6136474609375 cash\n",
      "bought AAPL, have 110.0 aapl and 94.0 GE and 1106.1787109375 cash\n",
      "sold AAPL, have 109.0 aapl and 94.0 GE and 1158.6751708984375 cash\n",
      "sold GE, have 109.0 aapl and 93.0 GE and 1188.1876220703125 cash\n",
      "sold AAPL, have 108.0 aapl and 93.0 GE and 1241.826904296875 cash\n",
      "nothing, have 108.0 aapl and 93.0 GE and 1241.826904296875 cash\n",
      "sold AAPL, have 107.0 aapl and 93.0 GE and 1291.865966796875 cash\n",
      "nothing, have 107.0 aapl and 93.0 GE and 1291.865966796875 cash\n",
      "bought AAPL, have 108.0 aapl and 93.0 GE and 1228.9364013671875 cash\n",
      "sold AAPL, have 107.0 aapl and 93.0 GE and 1278.880615234375 cash\n",
      "bought GE, have 107.0 aapl and 94.0 GE and 1240.72412109375 cash\n",
      "bought GE, have 107.0 aapl and 95.0 GE and 1202.357666015625 cash\n",
      "bought AAPL, have 108.0 aapl and 95.0 GE and 1141.1666259765625 cash\n",
      "nothing, have 108.0 aapl and 95.0 GE and 1141.1666259765625 cash\n",
      "sold AAPL, have 107.0 aapl and 95.0 GE and 1192.3568115234375 cash\n",
      "sold AAPL, have 106.0 aapl and 95.0 GE and 1246.1884765625 cash\n",
      "sold AAPL, have 105.0 aapl and 95.0 GE and 1299.4305419921875 cash\n",
      "bought GE, have 105.0 aapl and 96.0 GE and 1260.596435546875 cash\n",
      "bought AAPL, have 106.0 aapl and 96.0 GE and 1199.7911376953125 cash\n",
      "nothing, have 106.0 aapl and 96.0 GE and 1199.7911376953125 cash\n",
      "sold AAPL, have 105.0 aapl and 96.0 GE and 1248.6407470703125 cash\n",
      "bought GE, have 105.0 aapl and 97.0 GE and 1210.1767578125 cash\n",
      "bought GE, have 105.0 aapl and 98.0 GE and 1172.0748291015625 cash\n",
      "sold GE, have 105.0 aapl and 97.0 GE and 1202.7818603515625 cash\n",
      "sold AAPL, have 104.0 aapl and 97.0 GE and 1249.0120849609375 cash\n",
      "sold GE, have 104.0 aapl and 96.0 GE and 1280.4947509765625 cash\n",
      "bought GE, have 104.0 aapl and 97.0 GE and 1243.6209716796875 cash\n",
      "bought GE, have 104.0 aapl and 98.0 GE and 1205.976318359375 cash\n",
      "sold AAPL, have 103.0 aapl and 98.0 GE and 1242.405029296875 cash\n",
      "sold GE, have 103.0 aapl and 97.0 GE and 1272.603759765625 cash\n",
      "sold AAPL, have 102.0 aapl and 97.0 GE and 1308.933349609375 cash\n",
      "nothing, have 102.0 aapl and 97.0 GE and 1308.933349609375 cash\n",
      "sold AAPL, have 101.0 aapl and 97.0 GE and 1340.9156494140625 cash\n",
      "nothing, have 101.0 aapl and 97.0 GE and 1340.9156494140625 cash\n",
      "bought AAPL, have 102.0 aapl and 97.0 GE and 1304.5433349609375 cash\n",
      "sold GE, have 102.0 aapl and 96.0 GE and 1334.791748046875 cash\n",
      "nothing, have 102.0 aapl and 96.0 GE and 1334.791748046875 cash\n",
      "sold GE, have 102.0 aapl and 95.0 GE and 1364.3037109375 cash\n",
      "bought AAPL, have 103.0 aapl and 95.0 GE and 1331.671875 cash\n",
      "nothing, have 103.0 aapl and 95.0 GE and 1331.671875 cash\n",
      "sold GE, have 103.0 aapl and 94.0 GE and 1363.958251953125 cash\n",
      "bought AAPL, have 104.0 aapl and 94.0 GE and 1328.6043701171875 cash\n",
      "sold AAPL, have 103.0 aapl and 94.0 GE and 1363.3397216796875 cash\n",
      "bought AAPL, have 104.0 aapl and 94.0 GE and 1317.998046875 cash\n",
      "sold GE, have 104.0 aapl and 93.0 GE and 1351.8804931640625 cash\n",
      "sold AAPL, have 103.0 aapl and 93.0 GE and 1384.3070068359375 cash\n",
      "bought GE, have 103.0 aapl and 94.0 GE and 1341.6611328125 cash\n",
      "bought GE, have 103.0 aapl and 95.0 GE and 1298.9813232421875 cash\n",
      "nothing, have 103.0 aapl and 95.0 GE and 1298.9813232421875 cash\n",
      "nothing, have 103.0 aapl and 95.0 GE and 1298.9813232421875 cash\n",
      "sold AAPL, have 102.0 aapl and 95.0 GE and 1329.8277587890625 cash\n",
      "bought AAPL, have 103.0 aapl and 95.0 GE and 1297.9071044921875 cash\n",
      "sold AAPL, have 102.0 aapl and 95.0 GE and 1320.46435546875 cash\n",
      "nothing, have 102.0 aapl and 95.0 GE and 1320.46435546875 cash\n",
      "bought GE, have 102.0 aapl and 96.0 GE and 1277.601806640625 cash\n",
      "bought AAPL, have 103.0 aapl and 96.0 GE and 1260.2457275390625 cash\n",
      "sold AAPL, have 102.0 aapl and 96.0 GE and 1271.696533203125 cash\n",
      "bought AAPL, have 103.0 aapl and 96.0 GE and 1255.3416748046875 cash\n",
      "bought GE, have 103.0 aapl and 97.0 GE and 1215.1373291015625 cash\n",
      "nothing, have 103.0 aapl and 97.0 GE and 1215.1373291015625 cash\n",
      "sold GE, have 103.0 aapl and 96.0 GE and 1247.6282958984375 cash\n",
      "bought GE, have 103.0 aapl and 97.0 GE and 1206.9920654296875 cash\n",
      "bought AAPL, have 104.0 aapl and 97.0 GE and 1194.75732421875 cash\n",
      "sold AAPL, have 103.0 aapl and 97.0 GE and 1205.31201171875 cash\n",
      "nothing, have 103.0 aapl and 97.0 GE and 1205.31201171875 cash\n",
      "sold AAPL, have 102.0 aapl and 97.0 GE and 1219.052490234375 cash\n",
      "bought GE, have 102.0 aapl and 98.0 GE and 1176.761474609375 cash\n",
      "nothing, have 102.0 aapl and 98.0 GE and 1176.761474609375 cash\n",
      "bought GE, have 102.0 aapl and 99.0 GE and 1133.2255859375 cash\n",
      "bought AAPL, have 103.0 aapl and 99.0 GE and 1109.46923828125 cash\n",
      "bought GE, have 103.0 aapl and 100.0 GE and 1066.3714599609375 cash\n",
      "sold AAPL, have 102.0 aapl and 100.0 GE and 1087.11328125 cash\n",
      "sold AAPL, have 101.0 aapl and 100.0 GE and 1104.970458984375 cash\n",
      "nothing, have 101.0 aapl and 100.0 GE and 1104.970458984375 cash\n",
      "nothing, have 101.0 aapl and 100.0 GE and 1104.970458984375 cash\n",
      "bought GE, have 101.0 aapl and 101.0 GE and 1062.450927734375 cash\n",
      "sold GE, have 101.0 aapl and 100.0 GE and 1097.573486328125 cash\n",
      "bought AAPL, have 102.0 aapl and 100.0 GE and 1091.9791259765625 cash\n",
      "nothing, have 102.0 aapl and 100.0 GE and 1091.9791259765625 cash\n",
      "sold GE, have 102.0 aapl and 99.0 GE and 1126.8070068359375 cash\n",
      "sold GE, have 102.0 aapl and 98.0 GE and 1161.53662109375 cash\n",
      "bought GE, have 102.0 aapl and 99.0 GE and 1118.92333984375 cash\n",
      "bought AAPL, have 103.0 aapl and 99.0 GE and 1111.3001708984375 cash\n",
      "sold GE, have 103.0 aapl and 98.0 GE and 1146.8331298828125 cash\n",
      "bought AAPL, have 104.0 aapl and 98.0 GE and 1145.13916015625 cash\n",
      "sold GE, have 104.0 aapl and 97.0 GE and 1181.0966796875 cash\n",
      "bought AAPL, have 105.0 aapl and 97.0 GE and 1176.1910400390625 cash\n",
      "sold GE, have 105.0 aapl and 96.0 GE and 1213.22119140625 cash\n",
      "bought GE, have 105.0 aapl and 97.0 GE and 1167.4442138671875 cash\n",
      "sold AAPL, have 104.0 aapl and 97.0 GE and 1170.985107421875 cash\n",
      "nothing, have 104.0 aapl and 97.0 GE and 1170.985107421875 cash\n",
      "nothing, have 104.0 aapl and 97.0 GE and 1170.985107421875 cash\n",
      "nothing, have 104.0 aapl and 97.0 GE and 1170.985107421875 cash\n",
      "sold GE, have 104.0 aapl and 96.0 GE and 1206.9578857421875 cash\n",
      "sold AAPL, have 103.0 aapl and 96.0 GE and 1219.808837890625 cash\n",
      "bought AAPL, have 104.0 aapl and 96.0 GE and 1206.582763671875 cash\n",
      "bought AAPL, have 105.0 aapl and 96.0 GE and 1192.4822998046875 cash\n",
      "bought AAPL, have 106.0 aapl and 96.0 GE and 1182.0615234375 cash\n",
      "sold AAPL, have 105.0 aapl and 96.0 GE and 1198.6290283203125 cash\n",
      "bought GE, have 105.0 aapl and 97.0 GE and 1156.2515869140625 cash\n",
      "sold GE, have 105.0 aapl and 96.0 GE and 1190.798828125 cash\n",
      "bought GE, have 105.0 aapl and 97.0 GE and 1148.7164306640625 cash\n",
      "sold GE, have 105.0 aapl and 96.0 GE and 1182.7972412109375 cash\n"
     ]
    },
    {
     "name": "stdout",
     "output_type": "stream",
     "text": [
      "bought GE, have 105.0 aapl and 97.0 GE and 1141.43896484375 cash\n",
      "bought AAPL, have 106.0 aapl and 97.0 GE and 1119.342529296875 cash\n",
      "bought GE, have 106.0 aapl and 98.0 GE and 1077.7843017578125 cash\n",
      "sold AAPL, have 105.0 aapl and 98.0 GE and 1092.1099853515625 cash\n",
      "sold GE, have 105.0 aapl and 97.0 GE and 1125.4837646484375 cash\n",
      "nothing, have 105.0 aapl and 97.0 GE and 1125.4837646484375 cash\n",
      "sold AAPL, have 104.0 aapl and 97.0 GE and 1132.78466796875 cash\n",
      "bought GE, have 104.0 aapl and 98.0 GE and 1088.9776611328125 cash\n",
      "bought GE, have 104.0 aapl and 99.0 GE and 1044.773681640625 cash\n",
      "bought AAPL, have 105.0 aapl and 99.0 GE and 1033.1612548828125 cash\n",
      "nothing, have 105.0 aapl and 99.0 GE and 1033.1612548828125 cash\n",
      "sold AAPL, have 104.0 aapl and 99.0 GE and 1046.9910888671875 cash\n",
      "bought GE, have 104.0 aapl and 100.0 GE and 1001.727294921875 cash\n",
      "sold AAPL, have 103.0 aapl and 100.0 GE and 1016.9699096679688 cash\n",
      "sold AAPL, have 102.0 aapl and 100.0 GE and 1030.452880859375 cash\n",
      "bought AAPL, have 103.0 aapl and 100.0 GE and 1011.0752563476562 cash\n",
      "sold GE, have 103.0 aapl and 99.0 GE and 1047.221435546875 cash\n",
      "bought GE, have 103.0 aapl and 100.0 GE and 1003.7678833007812 cash\n",
      "nothing, have 103.0 aapl and 100.0 GE and 1003.7678833007812 cash\n",
      "sold GE, have 103.0 aapl and 99.0 GE and 1038.5123291015625 cash\n",
      "nothing, have 103.0 aapl and 99.0 GE and 1038.5123291015625 cash\n",
      "sold AAPL, have 102.0 aapl and 99.0 GE and 1066.05712890625 cash\n",
      "nothing, have 102.0 aapl and 99.0 GE and 1066.05712890625 cash\n",
      "nothing, have 102.0 aapl and 99.0 GE and 1066.05712890625 cash\n",
      "sold GE, have 102.0 aapl and 98.0 GE and 1101.3995361328125 cash\n",
      "bought GE, have 102.0 aapl and 99.0 GE and 1058.67529296875 cash\n",
      "sold GE, have 102.0 aapl and 98.0 GE and 1093.461181640625 cash\n",
      "sold GE, have 102.0 aapl and 97.0 GE and 1128.535888671875 cash\n",
      "sold AAPL, have 101.0 aapl and 97.0 GE and 1159.6124267578125 cash\n",
      "sold AAPL, have 100.0 aapl and 97.0 GE and 1194.329345703125 cash\n",
      "bought AAPL, have 101.0 aapl and 97.0 GE and 1151.5841064453125 cash\n",
      "sold AAPL, have 100.0 aapl and 97.0 GE and 1183.8798828125 cash\n",
      "sold GE, have 100.0 aapl and 96.0 GE and 1219.030517578125 cash\n",
      "nothing, have 100.0 aapl and 96.0 GE and 1219.030517578125 cash\n",
      "bought GE, have 100.0 aapl and 97.0 GE and 1177.0126953125 cash\n",
      "nothing, have 100.0 aapl and 97.0 GE and 1177.0126953125 cash\n",
      "bought AAPL, have 101.0 aapl and 97.0 GE and 1127.1732177734375 cash\n",
      "sold AAPL, have 100.0 aapl and 97.0 GE and 1168.7293701171875 cash\n",
      "sold AAPL, have 99.0 aapl and 97.0 GE and 1211.1988525390625 cash\n",
      "sold GE, have 99.0 aapl and 96.0 GE and 1244.095947265625 cash\n",
      "bought GE, have 99.0 aapl and 97.0 GE and 1203.2274169921875 cash\n",
      "nothing, have 99.0 aapl and 97.0 GE and 1203.2274169921875 cash\n",
      "bought AAPL, have 100.0 aapl and 97.0 GE and 1165.312744140625 cash\n",
      "bought AAPL, have 101.0 aapl and 97.0 GE and 1125.2916259765625 cash\n",
      "sold GE, have 101.0 aapl and 96.0 GE and 1158.4266357421875 cash\n",
      "sold AAPL, have 100.0 aapl and 96.0 GE and 1190.0819091796875 cash\n",
      "sold GE, have 100.0 aapl and 95.0 GE and 1221.9854736328125 cash\n",
      "nothing, have 100.0 aapl and 95.0 GE and 1221.9854736328125 cash\n",
      "sold AAPL, have 99.0 aapl and 95.0 GE and 1258.8289794921875 cash\n",
      "bought GE, have 99.0 aapl and 96.0 GE and 1220.3939208984375 cash\n",
      "sold AAPL, have 98.0 aapl and 96.0 GE and 1254.564208984375 cash\n",
      "bought AAPL, have 99.0 aapl and 96.0 GE and 1202.6641845703125 cash\n",
      "bought AAPL, have 100.0 aapl and 96.0 GE and 1150.2857666015625 cash\n",
      "nothing, have 100.0 aapl and 96.0 GE and 1150.2857666015625 cash\n",
      "sold AAPL, have 99.0 aapl and 96.0 GE and 1193.6265869140625 cash\n",
      "nothing, have 99.0 aapl and 96.0 GE and 1193.6265869140625 cash\n",
      "bought GE, have 99.0 aapl and 97.0 GE and 1155.6907958984375 cash\n",
      "sold AAPL, have 98.0 aapl and 97.0 GE and 1200.223876953125 cash\n",
      "bought AAPL, have 99.0 aapl and 97.0 GE and 1148.858154296875 cash\n",
      "nothing, have 99.0 aapl and 97.0 GE and 1148.858154296875 cash\n",
      "nothing, have 99.0 aapl and 97.0 GE and 1148.858154296875 cash\n",
      "bought AAPL, have 100.0 aapl and 97.0 GE and 1105.5614013671875 cash\n",
      "bought AAPL, have 101.0 aapl and 97.0 GE and 1059.9107666015625 cash\n",
      "bought GE, have 101.0 aapl and 98.0 GE and 1023.9922485351562 cash\n",
      "sold AAPL, have 100.0 aapl and 98.0 GE and 1061.3291015625 cash\n",
      "sold AAPL, have 99.0 aapl and 98.0 GE and 1098.96728515625 cash\n",
      "bought AAPL, have 100.0 aapl and 98.0 GE and 1039.3746337890625 cash\n",
      "sold AAPL, have 99.0 aapl and 98.0 GE and 1091.51171875 cash\n",
      "sold AAPL, have 98.0 aapl and 98.0 GE and 1142.609130859375 cash\n",
      "sold AAPL, have 97.0 aapl and 98.0 GE and 1190.9749755859375 cash\n",
      "nothing, have 97.0 aapl and 98.0 GE and 1190.9749755859375 cash\n",
      "sold AAPL, have 96.0 aapl and 98.0 GE and 1238.5216064453125 cash\n",
      "nothing, have 96.0 aapl and 98.0 GE and 1238.5216064453125 cash\n",
      "sold GE, have 96.0 aapl and 97.0 GE and 1263.0662841796875 cash\n",
      "bought AAPL, have 97.0 aapl and 97.0 GE and 1200.306640625 cash\n",
      "done, have 97.0 aapl and 97.0 GE and 1200.306640625 cash\n",
      "[tensor(97., device='cuda:0'), tensor(97., device='cuda:0'), tensor(1200.3066, device='cuda:0'), 51.613994277626006, 26.914463353561015, tensor(8902.4170, device='cuda:0'), 56.67894610754447, 27.30644347524798, 148.47441, 0.0, 0.0, 0.0, 16.172888, 0.0, 0.0, 0.0] tensor(10002.9727, device='cuda:0')\n",
      "total portfolio value 8902.4169921875\n"
     ]
    }
   ],
   "source": [
    "env = TradingEnvironment(max_stride=4, series_length=250, starting_cash_mean=1000, randomize_cash_std=100, starting_shares_mean=100, randomize_shares_std=10)\n",
    "env.reset()\n",
    "print(\"starting portfolio value {}\".format(env.portfolio_value()))\n",
    "for i in range(0,env.series_length + 1):\n",
    "    action = model.act(env.state)\n",
    "    next_state, reward, done, msg = env.step(action)\n",
    "    if msg[\"msg\"] == 'bankrupted self':\n",
    "        print('bankrupted self by 1')\n",
    "        break\n",
    "    if msg[\"msg\"] == 'sold more than have':\n",
    "        print('sold more than have by 1')\n",
    "        break\n",
    "    print(\"{}, have {} aapl and {} GE and {} cash\".format(msg[\"msg\"], next_state[0], next_state[1], next_state[2]))\n",
    "    if msg[\"msg\"] == \"done\":\n",
    "        print(next_state, reward)\n",
    "        print(\"total portfolio value {}\".format(env.portfolio_value()))\n",
    "        break"
   ]
  },
  {
   "cell_type": "code",
   "execution_count": 44,
   "metadata": {},
   "outputs": [],
   "source": [
    "apl_open_orig_ = apl_stock[\"Open\"].values\n",
    "apl_close_orig_ = apl_stock[\"Close\"].values\n",
    "apl_open_orig = apl_stock[\"Open\"].values\n",
    "apl_close_orig = apl_stock[\"Close\"].values\n",
    "msf_open_orig = msf_stock[\"Open\"].values\n",
    "msf_close_orig = msf_stock[\"Close\"].values\n",
    "apl_open_orig[:108] /= 7\n",
    "apl_close_orig[:108] /= 7"
   ]
  },
  {
   "cell_type": "code",
   "execution_count": 45,
   "metadata": {
    "scrolled": true
   },
   "outputs": [
    {
     "name": "stdout",
     "output_type": "stream",
     "text": [
      "Starting portfolio value: 7039.4599609375\n"
     ]
    },
    {
     "name": "stderr",
     "output_type": "stream",
     "text": [
      "C:\\Users\\Sri Yogesh\\Anaconda3\\lib\\site-packages\\ipykernel_launcher.py:18: UserWarning: To copy construct from a tensor, it is recommended to use sourceTensor.clone().detach() or sourceTensor.clone().detach().requires_grad_(True), rather than torch.tensor(sourceTensor).\n"
     ]
    },
    {
     "name": "stdout",
     "output_type": "stream",
     "text": [
      "Starting portfolio value: 7399.1171875\n",
      "Starting portfolio value: 7314.4384765625\n",
      "done, have 103.0 aapl and 83.0 msft and 705.3350830078125 cash\n",
      "Finished portfolio value 8340.8515625\n"
     ]
    }
   ],
   "source": [
    "env = TradingEnvironment(max_stride=4, series_length=250, starting_cash_mean=1000, randomize_cash_std=100, starting_shares_mean=100, randomize_shares_std=10)\n",
    "env.reset()\n",
    "complete_game = False\n",
    "while not complete_game:\n",
    "    bought_apl_at = []\n",
    "    bought_msf_at = []\n",
    "    sold_apl_at = []\n",
    "    sold_msf_at = []\n",
    "    bought_apl_at_orig = []\n",
    "    bought_msf_at_orig = []\n",
    "    sold_apl_at_orig = []\n",
    "    sold_msf_at_orig = []\n",
    "    nothing_at = []\n",
    "    ba_action_times = []\n",
    "    bm_action_times = []\n",
    "    sa_action_times = []\n",
    "    sm_action_times = []\n",
    "    n_action_times = []\n",
    "    starting_val = env.starting_portfolio_value\n",
    "    print(\"Starting portfolio value: {}\".format(starting_val))\n",
    "    for i in range(0,env.series_length + 1):\n",
    "        action = model.act(env.state)\n",
    "        if action == 0:\n",
    "            bought_apl_at.append(apl_open[env.cur_timestep])\n",
    "            bought_apl_at_orig.append(apl_open_orig[env.cur_timestep])\n",
    "            ba_action_times.append(env.cur_timestep)\n",
    "        if action == 1:\n",
    "            sold_apl_at.append(apl_close[env.cur_timestep])\n",
    "            sold_apl_at_orig.append(apl_close_orig[env.cur_timestep])\n",
    "            sa_action_times.append(env.cur_timestep)\n",
    "        if action == 2:\n",
    "            nothing_at.append(35)\n",
    "            n_action_times.append(env.cur_timestep)\n",
    "        if action == 3:\n",
    "            bought_msf_at.append(msf_open[env.cur_timestep])\n",
    "            bought_msf_at_orig.append(msf_open_orig[env.cur_timestep])\n",
    "            bm_action_times.append(env.cur_timestep)\n",
    "        if action == 4:\n",
    "            sold_msf_at.append(msf_close[env.cur_timestep])\n",
    "            sold_msf_at_orig.append(msf_close_orig[env.cur_timestep])\n",
    "            sm_action_times.append(env.cur_timestep)\n",
    "        next_state, reward, done, msg = env.step(action)\n",
    "        if msg[\"msg\"] == 'bankrupted self':\n",
    "            env.reset()\n",
    "            break\n",
    "        if msg[\"msg\"] == 'sold more than have':\n",
    "            env.reset()\n",
    "            break\n",
    "        if msg[\"msg\"] == \"done\":\n",
    "            print(\"{}, have {} aapl and {} msft and {} cash\".format(msg[\"msg\"], next_state[0], next_state[1], next_state[2]))\n",
    "            val = env.portfolio_value()\n",
    "            print(\"Finished portfolio value {}\".format(val))\n",
    "            if val > starting_val * 1.1: complete_game = True\n",
    "            env.reset()\n",
    "            break"
   ]
  },
  {
   "cell_type": "code",
   "execution_count": 46,
   "metadata": {},
   "outputs": [
    {
     "data": {
      "text/plain": [
       "[<matplotlib.lines.Line2D at 0x2906696b6a0>]"
      ]
     },
     "execution_count": 46,
     "metadata": {},
     "output_type": "execute_result"
    },
    {
     "data": {
      "image/png": "[encoded data removed]",
      "text/plain": [
       "<Figure size 1008x360 with 2 Axes>"
      ]
     },
     "metadata": {},
     "output_type": "display_data"
    }
   ],
   "source": [
    "plt.figure(1, figsize=(14,5))\n",
    "apl = plt.subplot(121)\n",
    "msf = plt.subplot(122)\n",
    "apl.plot(range(0, len(apl_open)), apl_open)\n",
    "msf.plot(range(0, len(msf_open)), msf_open)\n",
    "apl.plot(ba_action_times, bought_apl_at, \"ro\")\n",
    "apl.plot(sa_action_times, sold_apl_at, \"go\")\n",
    "apl.plot(n_action_times, nothing_at, \"yx\")\n",
    "msf.plot(n_action_times, nothing_at, \"yx\")\n",
    "msf.plot(bm_action_times, bought_msf_at, \"ro\")\n",
    "msf.plot(sm_action_times, sold_msf_at, \"go\")"
   ]
  },
  {
   "cell_type": "code",
   "execution_count": 47,
   "metadata": {},
   "outputs": [
    {
     "data": {
      "text/plain": [
       "[<matplotlib.lines.Line2D at 0x2907dcf39b0>]"
      ]
     },
     "execution_count": 47,
     "metadata": {},
     "output_type": "execute_result"
    },
    {
     "data": {
      "image/png": "[encoded data removed]",
      "text/plain": [
       "<Figure size 1008x360 with 2 Axes>"
      ]
     },
     "metadata": {},
     "output_type": "display_data"
    }
   ],
   "source": [
    "plt.figure(1, figsize=(14,5))\n",
    "apl = plt.subplot(121)\n",
    "msf = plt.subplot(122)\n",
    "apl.plot(range(0, len(apl_open_orig)), apl_open_orig)\n",
    "msf.plot(range(0, len(msf_open_orig)), msf_open_orig)\n",
    "apl.plot(ba_action_times, bought_apl_at_orig, \"ro\")\n",
    "apl.plot(sa_action_times, sold_apl_at_orig, \"go\")\n",
    "apl.plot(n_action_times, nothing_at, \"yx\")\n",
    "msf.plot(n_action_times, nothing_at, \"yx\")\n",
    "msf.plot(bm_action_times, bought_msf_at_orig, \"ro\")\n",
    "msf.plot(sm_action_times, sold_msf_at_orig, \"go\")"
   ]
  }
 ],
 "metadata": {
  "kernelspec": {
   "display_name": "Python 3",
   "language": "python",
   "name": "python3"
  },
  "language_info": {
   "codemirror_mode": {
    "name": "ipython",
    "version": 3
   },
   "file_extension": ".py",
   "mimetype": "text/x-python",
   "name": "python",
   "nbconvert_exporter": "python",
   "pygments_lexer": "ipython3",
   "version": "3.7.7"
  }
 },
 "nbformat": 4,
 "nbformat_minor": 2
}
