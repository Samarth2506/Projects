{
 "cells": [
  {
   "cell_type": "markdown",
   "metadata": {},
   "source": [
    "## _Time Series Forecasting_\n",
    "\n",
    "**The script implements an Time Series LSTM model to predict a point estimate of the \n",
    "stock price for the company of interest. This script predict stock price of GE**"
   ]
  },
  {
   "cell_type": "markdown",
   "metadata": {},
   "source": [
    "### _Import Libraries_"
   ]
  },
  {
   "cell_type": "code",
   "execution_count": 1,
   "metadata": {},
   "outputs": [
    {
     "name": "stderr",
     "output_type": "stream",
     "text": [
      "Using TensorFlow backend.\n"
     ]
    }
   ],
   "source": [
    "import numpy as np\n",
    "import pandas as pd\n",
    "\n",
    "from sklearn.preprocessing import MinMaxScaler  \n",
    "\n",
    "from subprocess import check_output\n",
    "from keras.layers.core import Dense, Activation, Dropout\n",
    "from keras.layers.recurrent import LSTM\n",
    "from keras.models import Sequential\n",
    "# from sklearn.cross_validation import  train_test_split\n",
    "import time #helper libraries\n",
    "from sklearn.preprocessing import MinMaxScaler\n",
    "import matplotlib.pyplot as plt\n",
    "from numpy import newaxis"
   ]
  },
  {
   "cell_type": "markdown",
   "metadata": {},
   "source": [
    "### _Read and Explore Data_"
   ]
  },
  {
   "cell_type": "code",
   "execution_count": 2,
   "metadata": {},
   "outputs": [
    {
     "data": {
      "text/html": [
       "<div>\n",
       "<style scoped>\n",
       "    .dataframe tbody tr th:only-of-type {\n",
       "        vertical-align: middle;\n",
       "    }\n",
       "\n",
       "    .dataframe tbody tr th {\n",
       "        vertical-align: top;\n",
       "    }\n",
       "\n",
       "    .dataframe thead th {\n",
       "        text-align: right;\n",
       "    }\n",
       "</style>\n",
       "<table border=\"1\" class=\"dataframe\">\n",
       "  <thead>\n",
       "    <tr style=\"text-align: right;\">\n",
       "      <th></th>\n",
       "      <th>Date</th>\n",
       "      <th>Open</th>\n",
       "      <th>High</th>\n",
       "      <th>Low</th>\n",
       "      <th>Close</th>\n",
       "      <th>Adj Close</th>\n",
       "      <th>Volume</th>\n",
       "    </tr>\n",
       "  </thead>\n",
       "  <tbody>\n",
       "    <tr>\n",
       "      <th>0</th>\n",
       "      <td>2013-01-28</td>\n",
       "      <td>22.440001</td>\n",
       "      <td>22.540001</td>\n",
       "      <td>22.26</td>\n",
       "      <td>22.500000</td>\n",
       "      <td>18.283457</td>\n",
       "      <td>49558400</td>\n",
       "    </tr>\n",
       "    <tr>\n",
       "      <th>1</th>\n",
       "      <td>2013-01-29</td>\n",
       "      <td>22.490000</td>\n",
       "      <td>22.580000</td>\n",
       "      <td>22.40</td>\n",
       "      <td>22.500000</td>\n",
       "      <td>18.283457</td>\n",
       "      <td>34148000</td>\n",
       "    </tr>\n",
       "    <tr>\n",
       "      <th>2</th>\n",
       "      <td>2013-01-30</td>\n",
       "      <td>22.520000</td>\n",
       "      <td>22.549999</td>\n",
       "      <td>22.23</td>\n",
       "      <td>22.230000</td>\n",
       "      <td>18.064051</td>\n",
       "      <td>36200400</td>\n",
       "    </tr>\n",
       "    <tr>\n",
       "      <th>3</th>\n",
       "      <td>2013-01-31</td>\n",
       "      <td>22.209999</td>\n",
       "      <td>22.400000</td>\n",
       "      <td>22.18</td>\n",
       "      <td>22.280001</td>\n",
       "      <td>18.104687</td>\n",
       "      <td>34427700</td>\n",
       "    </tr>\n",
       "    <tr>\n",
       "      <th>4</th>\n",
       "      <td>2013-02-01</td>\n",
       "      <td>22.430000</td>\n",
       "      <td>22.639999</td>\n",
       "      <td>22.32</td>\n",
       "      <td>22.620001</td>\n",
       "      <td>18.380978</td>\n",
       "      <td>43840300</td>\n",
       "    </tr>\n",
       "  </tbody>\n",
       "</table>\n",
       "</div>"
      ],
      "text/plain": [
       "         Date       Open       High    Low      Close  Adj Close    Volume\n",
       "0  2013-01-28  22.440001  22.540001  22.26  22.500000  18.283457  49558400\n",
       "1  2013-01-29  22.490000  22.580000  22.40  22.500000  18.283457  34148000\n",
       "2  2013-01-30  22.520000  22.549999  22.23  22.230000  18.064051  36200400\n",
       "3  2013-01-31  22.209999  22.400000  22.18  22.280001  18.104687  34427700\n",
       "4  2013-02-01  22.430000  22.639999  22.32  22.620001  18.380978  43840300"
      ]
     },
     "execution_count": 2,
     "metadata": {},
     "output_type": "execute_result"
    }
   ],
   "source": [
    "stock_data = pd.read_csv(\"GE.csv\", header = 0)\n",
    "stock_data.head()"
   ]
  },
  {
   "cell_type": "code",
   "execution_count": 3,
   "metadata": {},
   "outputs": [
    {
     "data": {
      "text/plain": [
       "Date          object\n",
       "Open         float64\n",
       "High         float64\n",
       "Low          float64\n",
       "Close        float64\n",
       "Adj Close    float64\n",
       "Volume         int64\n",
       "dtype: object"
      ]
     },
     "execution_count": 3,
     "metadata": {},
     "output_type": "execute_result"
    }
   ],
   "source": [
    "stock_data.dtypes"
   ]
  },
  {
   "cell_type": "code",
   "execution_count": 5,
   "metadata": {},
   "outputs": [
    {
     "data": {
      "text/plain": [
       "<matplotlib.axes._subplots.AxesSubplot at 0x1278f4160>"
      ]
     },
     "execution_count": 5,
     "metadata": {},
     "output_type": "execute_result"
    },
    {
     "data": {
      "image/png": "[encoded data removed]",
      "text/plain": [
       "<matplotlib.figure.Figure at 0x127954a58>"
      ]
     },
     "metadata": {
      "needs_background": "light"
     },
     "output_type": "display_data"
    }
   ],
   "source": [
    "stock_data[['Date','Open']].plot()"
   ]
  },
  {
   "cell_type": "code",
   "execution_count": 6,
   "metadata": {},
   "outputs": [
    {
     "data": {
      "text/plain": [
       "Date         datetime64[ns]\n",
       "Open                float64\n",
       "High                float64\n",
       "Low                 float64\n",
       "Close               float64\n",
       "Adj Close           float64\n",
       "Volume                int64\n",
       "dtype: object"
      ]
     },
     "execution_count": 6,
     "metadata": {},
     "output_type": "execute_result"
    }
   ],
   "source": [
    "stock_data['Date'] = pd.to_datetime(stock_data['Date'])\n",
    "stock_data.dtypes"
   ]
  },
  {
   "cell_type": "markdown",
   "metadata": {},
   "source": [
    "### _Filter data for dates of interest_"
   ]
  },
  {
   "cell_type": "code",
   "execution_count": 97,
   "metadata": {},
   "outputs": [],
   "source": [
    "filter_train = (stock_data['Date'] <= '2018-12-1')\n",
    "filter_test = (stock_data['Date'] > '2018-12-1')\n",
    "\n",
    "train_data = stock_data[filter_train]\n",
    "test_data = stock_data[filter_test]"
   ]
  },
  {
   "cell_type": "markdown",
   "metadata": {},
   "source": [
    "### _Create Train-Test Datasets and Prepare Data for LSTM Model_"
   ]
  },
  {
   "cell_type": "code",
   "execution_count": 98,
   "metadata": {},
   "outputs": [],
   "source": [
    "train_data = train_data.Open.values.astype('float32')\n",
    "train_data = train_data.reshape(len(train_data), 1)\n",
    "\n",
    "test_data = test_data.Open.values.astype('float32')\n",
    "test_data = test_data.reshape(len(test_data), 1)"
   ]
  },
  {
   "cell_type": "code",
   "execution_count": 99,
   "metadata": {},
   "outputs": [],
   "source": [
    "def create_dataset(dataset, look_back=1):\n",
    "    dataX, dataY = [], []\n",
    "    for i in range(len(dataset)-look_back-1):\n",
    "        a = dataset[i:(i+look_back), 0]\n",
    "        dataX.append(a)\n",
    "        dataY.append(dataset[i + look_back, 0])\n",
    "    return np.array(dataX), np.array(dataY)"
   ]
  },
  {
   "cell_type": "code",
   "execution_count": 100,
   "metadata": {},
   "outputs": [],
   "source": [
    "look_back = 10\n",
    "\n",
    "train_X, train_Y = create_dataset(train_data, look_back)\n",
    "test_X, test_Y = create_dataset(test_data, look_back)"
   ]
  },
  {
   "cell_type": "code",
   "execution_count": 101,
   "metadata": {},
   "outputs": [],
   "source": [
    "train_X = np.reshape(train_X, (train_X.shape[0], 1, train_X.shape[1]))\n",
    "test_X = np.reshape(test_X, (test_X.shape[0], 1, test_X.shape[1]))"
   ]
  },
  {
   "cell_type": "code",
   "execution_count": 102,
   "metadata": {},
   "outputs": [
    {
     "data": {
      "text/plain": [
       "(1463, 1, 10)"
      ]
     },
     "execution_count": 102,
     "metadata": {},
     "output_type": "execute_result"
    }
   ],
   "source": [
    "train_X.shape"
   ]
  },
  {
   "cell_type": "markdown",
   "metadata": {},
   "source": [
    "### _Build LSTM Model_"
   ]
  },
  {
   "cell_type": "code",
   "execution_count": 107,
   "metadata": {},
   "outputs": [
    {
     "name": "stderr",
     "output_type": "stream",
     "text": [
      "/Applications/anaconda3/lib/python3.6/site-packages/ipykernel_launcher.py:3: UserWarning: Update your `LSTM` call to the Keras 2 API: `LSTM(input_shape=(1, 10), return_sequences=True, units=50)`\n",
      "  This is separate from the ipykernel package so we can avoid doing imports until\n",
      "/Applications/anaconda3/lib/python3.6/site-packages/ipykernel_launcher.py:9: UserWarning: Update your `Dense` call to the Keras 2 API: `Dense(units=1)`\n",
      "  if __name__ == '__main__':\n"
     ]
    }
   ],
   "source": [
    "model = Sequential()\n",
    "\n",
    "model.add(LSTM(input_shape = (1,look_back),output_dim=50,return_sequences=True))\n",
    "model.add(Dropout(0.2))\n",
    "\n",
    "model.add(LSTM(100,return_sequences=False))\n",
    "model.add(Dropout(0.2))\n",
    "\n",
    "model.add(Dense(output_dim=1))\n",
    "model.add(Activation('linear'))\n",
    "\n",
    "model.compile(loss='mse', optimizer='rmsprop')"
   ]
  },
  {
   "cell_type": "code",
   "execution_count": 108,
   "metadata": {},
   "outputs": [
    {
     "name": "stderr",
     "output_type": "stream",
     "text": [
      "/Applications/anaconda3/lib/python3.6/site-packages/ipykernel_launcher.py:1: UserWarning: The `nb_epoch` argument in `fit` has been renamed `epochs`.\n",
      "  \"\"\"Entry point for launching an IPython kernel.\n"
     ]
    },
    {
     "name": "stdout",
     "output_type": "stream",
     "text": [
      "Train on 1389 samples, validate on 74 samples\n",
      "Epoch 1/50\n",
      "1389/1389 [==============================] - 2s 2ms/step - loss: 622.9248 - val_loss: 96.8673\n",
      "Epoch 2/50\n",
      "1389/1389 [==============================] - 0s 70us/step - loss: 534.6329 - val_loss: 66.9683\n",
      "Epoch 3/50\n",
      "1389/1389 [==============================] - 0s 72us/step - loss: 456.3553 - val_loss: 40.6648\n",
      "Epoch 4/50\n",
      "1389/1389 [==============================] - 0s 74us/step - loss: 384.5627 - val_loss: 20.9840\n",
      "Epoch 5/50\n",
      "1389/1389 [==============================] - 0s 67us/step - loss: 317.5604 - val_loss: 8.0408\n",
      "Epoch 6/50\n",
      "1389/1389 [==============================] - 0s 71us/step - loss: 258.1837 - val_loss: 1.9993\n",
      "Epoch 7/50\n",
      "1389/1389 [==============================] - 0s 72us/step - loss: 205.4804 - val_loss: 2.7140\n",
      "Epoch 8/50\n",
      "1389/1389 [==============================] - 0s 73us/step - loss: 159.6820 - val_loss: 9.8359\n",
      "Epoch 9/50\n",
      "1389/1389 [==============================] - 0s 72us/step - loss: 124.0892 - val_loss: 20.8221\n",
      "Epoch 10/50\n",
      "1389/1389 [==============================] - 0s 72us/step - loss: 95.4297 - val_loss: 28.5338\n",
      "Epoch 11/50\n",
      "1389/1389 [==============================] - 0s 66us/step - loss: 75.1501 - val_loss: 28.3942\n",
      "Epoch 12/50\n",
      "1389/1389 [==============================] - 0s 71us/step - loss: 61.0342 - val_loss: 39.9459\n",
      "Epoch 13/50\n",
      "1389/1389 [==============================] - 0s 73us/step - loss: 50.1093 - val_loss: 12.3250\n",
      "Epoch 14/50\n",
      "1389/1389 [==============================] - 0s 70us/step - loss: 40.9333 - val_loss: 25.8406\n",
      "Epoch 15/50\n",
      "1389/1389 [==============================] - 0s 67us/step - loss: 33.2360 - val_loss: 28.3700\n",
      "Epoch 16/50\n",
      "1389/1389 [==============================] - 0s 71us/step - loss: 26.8029 - val_loss: 27.3682\n",
      "Epoch 17/50\n",
      "1389/1389 [==============================] - 0s 70us/step - loss: 22.3385 - val_loss: 14.6778\n",
      "Epoch 18/50\n",
      "1389/1389 [==============================] - 0s 70us/step - loss: 19.0487 - val_loss: 11.5092\n",
      "Epoch 19/50\n",
      "1389/1389 [==============================] - 0s 69us/step - loss: 15.4080 - val_loss: 56.0332\n",
      "Epoch 20/50\n",
      "1389/1389 [==============================] - 0s 79us/step - loss: 14.6507 - val_loss: 5.8354\n",
      "Epoch 21/50\n",
      "1389/1389 [==============================] - 0s 76us/step - loss: 11.9040 - val_loss: 3.1208\n",
      "Epoch 22/50\n",
      "1389/1389 [==============================] - 0s 68us/step - loss: 13.7191 - val_loss: 10.3285\n",
      "Epoch 23/50\n",
      "1389/1389 [==============================] - 0s 80us/step - loss: 11.2923 - val_loss: 21.4516\n",
      "Epoch 24/50\n",
      "1389/1389 [==============================] - 0s 69us/step - loss: 10.7754 - val_loss: 3.4807\n",
      "Epoch 25/50\n",
      "1389/1389 [==============================] - 0s 78us/step - loss: 10.6771 - val_loss: 37.0888\n",
      "Epoch 26/50\n",
      "1389/1389 [==============================] - 0s 89us/step - loss: 11.1942 - val_loss: 5.3013\n",
      "Epoch 27/50\n",
      "1389/1389 [==============================] - 0s 70us/step - loss: 13.2126 - val_loss: 3.8208\n",
      "Epoch 28/50\n",
      "1389/1389 [==============================] - 0s 66us/step - loss: 9.6864 - val_loss: 49.3077\n",
      "Epoch 29/50\n",
      "1389/1389 [==============================] - 0s 71us/step - loss: 11.2638 - val_loss: 4.0803\n",
      "Epoch 30/50\n",
      "1389/1389 [==============================] - 0s 71us/step - loss: 10.9864 - val_loss: 32.7017\n",
      "Epoch 31/50\n",
      "1389/1389 [==============================] - 0s 68us/step - loss: 11.2189 - val_loss: 6.1305\n",
      "Epoch 32/50\n",
      "1389/1389 [==============================] - 0s 74us/step - loss: 11.1534 - val_loss: 19.0873\n",
      "Epoch 33/50\n",
      "1389/1389 [==============================] - 0s 75us/step - loss: 10.4773 - val_loss: 5.5646\n",
      "Epoch 34/50\n",
      "1389/1389 [==============================] - 0s 76us/step - loss: 9.7523 - val_loss: 4.4078\n",
      "Epoch 35/50\n",
      "1389/1389 [==============================] - 0s 71us/step - loss: 11.1731 - val_loss: 9.4289\n",
      "Epoch 36/50\n",
      "1389/1389 [==============================] - 0s 71us/step - loss: 10.0936 - val_loss: 5.0052\n",
      "Epoch 37/50\n",
      "1389/1389 [==============================] - 0s 81us/step - loss: 9.4605 - val_loss: 5.1345\n",
      "Epoch 38/50\n",
      "1389/1389 [==============================] - 0s 80us/step - loss: 12.5215 - val_loss: 36.6278\n",
      "Epoch 39/50\n",
      "1389/1389 [==============================] - 0s 84us/step - loss: 8.5922 - val_loss: 5.1954\n",
      "Epoch 40/50\n",
      "1389/1389 [==============================] - 0s 79us/step - loss: 9.4186 - val_loss: 52.8337\n",
      "Epoch 41/50\n",
      "1389/1389 [==============================] - 0s 75us/step - loss: 9.4098 - val_loss: 4.2715\n",
      "Epoch 42/50\n",
      "1389/1389 [==============================] - 0s 90us/step - loss: 10.5466 - val_loss: 6.2648\n",
      "Epoch 43/50\n",
      "1389/1389 [==============================] - 0s 78us/step - loss: 9.7315 - val_loss: 4.9246\n",
      "Epoch 44/50\n",
      "1389/1389 [==============================] - 0s 87us/step - loss: 10.4157 - val_loss: 5.3281\n",
      "Epoch 45/50\n",
      "1389/1389 [==============================] - 0s 81us/step - loss: 9.7717 - val_loss: 4.3600\n",
      "Epoch 46/50\n",
      "1389/1389 [==============================] - 0s 79us/step - loss: 9.3875 - val_loss: 10.1357\n",
      "Epoch 47/50\n",
      "1389/1389 [==============================] - 0s 230us/step - loss: 10.6529 - val_loss: 4.2215\n",
      "Epoch 48/50\n",
      "1389/1389 [==============================] - 0s 109us/step - loss: 9.9706 - val_loss: 4.3499\n",
      "Epoch 49/50\n",
      "1389/1389 [==============================] - 0s 129us/step - loss: 9.0499 - val_loss: 27.4154\n",
      "Epoch 50/50\n",
      "1389/1389 [==============================] - 0s 93us/step - loss: 10.4908 - val_loss: 4.2812\n"
     ]
    },
    {
     "data": {
      "text/plain": [
       "<keras.callbacks.History at 0x12dfd67f0>"
      ]
     },
     "execution_count": 108,
     "metadata": {},
     "output_type": "execute_result"
    }
   ],
   "source": [
    "model.fit(train_X,train_Y,batch_size=128,nb_epoch=50,validation_split=0.05)"
   ]
  },
  {
   "cell_type": "markdown",
   "metadata": {},
   "source": [
    "### _Predict Stock Price and Plot Predictons_"
   ]
  },
  {
   "cell_type": "code",
   "execution_count": 109,
   "metadata": {},
   "outputs": [],
   "source": [
    "predictions = model.predict(test_X)  "
   ]
  },
  {
   "cell_type": "code",
   "execution_count": 110,
   "metadata": {},
   "outputs": [
    {
     "data": {
      "image/png": "[encoded data removed]",
      "text/plain": [
       "<matplotlib.figure.Figure at 0x11843bcf8>"
      ]
     },
     "metadata": {
      "needs_background": "light"
     },
     "output_type": "display_data"
    }
   ],
   "source": [
    "plt.figure(figsize=(10,6))  \n",
    "plt.plot(test_Y, color='blue', label='Actual GE Stock Price')  \n",
    "plt.plot(predictions , color='red', label='Predicted GE Stock Price')  \n",
    "plt.title('GE Stock Price Prediction')  \n",
    "plt.xlabel('Date')  \n",
    "plt.ylabel('GE Stock Price')  \n",
    "plt.legend()  \n",
    "plt.show()  "
   ]
  },
  {
   "cell_type": "code",
   "execution_count": null,
   "metadata": {},
   "outputs": [],
   "source": []
  }
 ],
 "metadata": {
  "kernelspec": {
   "display_name": "Python 3",
   "language": "python",
   "name": "python3"
  },
  "language_info": {
   "codemirror_mode": {
    "name": "ipython",
    "version": 3
   },
   "file_extension": ".py",
   "mimetype": "text/x-python",
   "name": "python",
   "nbconvert_exporter": "python",
   "pygments_lexer": "ipython3",
   "version": "3.7.7"
  }
 },
 "nbformat": 4,
 "nbformat_minor": 2
}
