{
  "nbformat": 4,
  "nbformat_minor": 0,
  "metadata": {
    "colab": {
      "name": "DCGAN_Classifier.ipynb",
      "provenance": [],
      "collapsed_sections": [],
      "machine_shape": "hm"
    },
    "kernelspec": {
      "name": "python3",
      "display_name": "Python 3"
    },
    "accelerator": "GPU"
  },
  "cells": [
    {
      "cell_type": "markdown",
      "metadata": {
        "id": "73gmRdmk225n",
        "colab_type": "text"
      },
      "source": [
        "# Import Libraries"
      ]
    },
    {
      "cell_type": "code",
      "metadata": {
        "id": "EHqk-2zy3Knu",
        "colab_type": "code",
        "colab": {}
      },
      "source": [
        "from google.colab import drive\n",
        "drive.mount('/content/drive')"
      ],
      "execution_count": 0,
      "outputs": []
    },
    {
      "cell_type": "code",
      "metadata": {
        "id": "nPOoajeIzles",
        "colab_type": "code",
        "colab": {}
      },
      "source": [
        "from __future__ import print_function\n",
        "#%matplotlib inline\n",
        "import argparse\n",
        "import os\n",
        "import random\n",
        "import torch\n",
        "import torch.nn as nn\n",
        "import torch.nn.parallel\n",
        "import torch.backends.cudnn as cudnn\n",
        "import torch.optim as optim\n",
        "import torch.utils.data\n",
        "import torchvision.datasets as dset\n",
        "import torchvision.transforms as transforms\n",
        "import torchvision.utils as vutils\n",
        "import numpy as np\n",
        "import matplotlib.pyplot as plt\n",
        "import matplotlib.animation as animation\n",
        "from IPython.display import HTML\n",
        "from PIL import Image\n",
        "\n",
        "# Set random seed for reproducibility\n",
        "manualSeed = 999\n",
        "#manualSeed = random.randint(1, 10000) # use if you want new results\n",
        "print(\"Random Seed: \", manualSeed)\n",
        "random.seed(manualSeed)\n",
        "torch.manual_seed(manualSeed)"
      ],
      "execution_count": 0,
      "outputs": []
    },
    {
      "cell_type": "markdown",
      "metadata": {
        "id": "JgJNETVy275j",
        "colab_type": "text"
      },
      "source": [
        "# Get Data and fix channel order"
      ]
    },
    {
      "cell_type": "code",
      "metadata": {
        "id": "K8MbTdJ1bkXr",
        "colab_type": "code",
        "colab": {}
      },
      "source": [
        "celebAreal = np.load(\"/content/drive/My Drive/Deep Learning Project Spring 20/data/image_array_10000.npy\")\n",
        "celebAfakes = np.load(\"/content/drive/My Drive/Deep Learning Project Spring 20/data/image_array_10000_fakes.npy\")\n",
        "\n",
        "real = np.transpose(celebAreal,(0,3,1,2))\n",
        "fake = celebAfakes"
      ],
      "execution_count": 0,
      "outputs": []
    },
    {
      "cell_type": "code",
      "metadata": {
        "id": "c6k62f5bhh_c",
        "colab_type": "code",
        "colab": {}
      },
      "source": [
        "training = np.concatenate((real[0:8000], fake[0:8000]), 0)\n",
        "training_labels= np.zeros(len(training))\n",
        "training_labels[0:8000] = 1\n",
        "np.shape(training), np.shape(training_labels)\n",
        "\n",
        "val = np.concatenate((real[8000:], fake[8000:]), 0)\n",
        "val_labels= np.zeros(len(val))\n",
        "val_labels[0:2000] = 1\n",
        "np.shape(val), np.shape(val_labels)"
      ],
      "execution_count": 0,
      "outputs": []
    },
    {
      "cell_type": "markdown",
      "metadata": {
        "id": "uln2NIpa3BN-",
        "colab_type": "text"
      },
      "source": [
        "# Create Datasets and Dataloaders"
      ]
    },
    {
      "cell_type": "code",
      "metadata": {
        "id": "8s1Meo6hcdmO",
        "colab_type": "code",
        "colab": {}
      },
      "source": [
        "class MyDataset(torch.utils.data.Dataset):\n",
        "    def __init__(self, data, targets, transform=None):\n",
        "        self.data = data\n",
        "        self.targets = torch.LongTensor(targets)\n",
        "        self.transform = transform\n",
        "\n",
        "    def __getitem__(self, index):\n",
        "        x = self.data[index]\n",
        "        y = self.targets[index]\n",
        "\n",
        "        if self.transform:\n",
        "            x = Image.fromarray(self.data[index].astype(np.uint8).transpose(1,2,0))\n",
        "            x = self.transform(x)\n",
        "\n",
        "        return x, y\n",
        "\n",
        "    def __len__(self):\n",
        "        return len(self.data)\n",
        "\n",
        "#Normalisation of Image\n",
        "transform_norm = transforms.Compose(\n",
        "    [transforms.ToTensor(), transforms.Normalize((0.5, 0.5, 0.5), (0.25, 0.25, 0.25))])\n",
        "\n",
        "#Loading to a Dataloader; Batch size 128\n",
        "dataset = MyDataset(training, training_labels, transform=transform_norm)\n",
        "dataloader = torch.utils.data.DataLoader(dataset, 128, shuffle=True)\n",
        "\n",
        "dataset_val = MyDataset(val, val_labels, transform=transform_norm)\n",
        "dataloader_val = torch.utils.data.DataLoader(dataset_val, 128, shuffle=True)"
      ],
      "execution_count": 0,
      "outputs": []
    },
    {
      "cell_type": "code",
      "metadata": {
        "id": "uWDUEO-Zn6e-",
        "colab_type": "code",
        "colab": {}
      },
      "source": [
        "# Number of workers for dataloader\n",
        "workers = 2\n",
        "\n",
        "# Batch size during training\n",
        "batch_size = 128\n",
        "\n",
        "# Spatial size of training images. All images will be resized to this\n",
        "#   size using a transformer.\n",
        "image_size = 64\n",
        "\n",
        "# Number of channels in the training images. For color images this is 3\n",
        "nc = 3\n",
        "\n",
        "# Size of z latent vector (i.e. size of generator input)\n",
        "nz = 100\n",
        "\n",
        "# Size of feature maps in generator\n",
        "ngf = 64\n",
        "\n",
        "# Size of feature maps in discriminator\n",
        "ndf = 64\n",
        "\n",
        "# Number of training epochs\n",
        "num_epochs = 30\n",
        "\n",
        "# Learning rate for optimizers\n",
        "lr = 0.0002\n",
        "\n",
        "# Beta1 hyperparam for Adam optimizers\n",
        "beta1 = 0.5\n",
        "\n",
        "# Number of GPUs available. Use 0 for CPU mode.\n",
        "ngpu = 1\n",
        "device = torch.device(\"cuda:0\" if (torch.cuda.is_available() and ngpu > 0) else \"cpu\")"
      ],
      "execution_count": 0,
      "outputs": []
    },
    {
      "cell_type": "markdown",
      "metadata": {
        "id": "wAQ8at1O3VOG",
        "colab_type": "text"
      },
      "source": [
        "# Define Model"
      ]
    },
    {
      "cell_type": "code",
      "metadata": {
        "id": "JH4iSjpcGxxz",
        "colab_type": "code",
        "colab": {}
      },
      "source": [
        "# custom weights initialization called on netG and netD\n",
        "def weights_init(m):\n",
        "    classname = m.__class__.__name__\n",
        "    if classname.find('Conv') != -1:\n",
        "        nn.init.normal_(m.weight.data, 0.0, 0.02)\n",
        "    elif classname.find('BatchNorm') != -1:\n",
        "        nn.init.normal_(m.weight.data, 1.0, 0.02)\n",
        "        nn.init.constant_(m.bias.data, 0)"
      ],
      "execution_count": 0,
      "outputs": []
    },
    {
      "cell_type": "code",
      "metadata": {
        "id": "Ji4nB4s7_FlU",
        "colab_type": "code",
        "colab": {}
      },
      "source": [
        "# Generator Code\n",
        "\n",
        "class Generator(nn.Module):\n",
        "    def __init__(self, ngpu):\n",
        "        super(Generator, self).__init__()\n",
        "        self.ngpu = ngpu\n",
        "        self.main = nn.Sequential(\n",
        "            # input is Z, going into a convolution\n",
        "            nn.ConvTranspose2d( nz, ngf * 8, 4, 1, 0, bias=False),\n",
        "            nn.BatchNorm2d(ngf * 8),\n",
        "            nn.ReLU(True),\n",
        "            # state size. (ngf*8) x 4 x 4\n",
        "            nn.ConvTranspose2d(ngf * 8, ngf * 4, 4, 2, 1, bias=False),\n",
        "            nn.BatchNorm2d(ngf * 4),\n",
        "            nn.ReLU(True),\n",
        "            # state size. (ngf*4) x 8 x 8\n",
        "            nn.ConvTranspose2d( ngf * 4, ngf * 2, 4, 2, 1, bias=False),\n",
        "            nn.BatchNorm2d(ngf * 2),\n",
        "            nn.ReLU(True),\n",
        "            # state size. (ngf*2) x 16 x 16\n",
        "            nn.ConvTranspose2d( ngf * 2, ngf, 4, 2, 1, bias=False),\n",
        "            nn.BatchNorm2d(ngf),\n",
        "            nn.ReLU(True),\n",
        "            # state size. (ngf) x 32 x 32\n",
        "            nn.ConvTranspose2d( ngf, nc, 4, 2, 1, bias=False),\n",
        "            nn.Tanh()\n",
        "            # state size. (nc) x 64 x 64\n",
        "        )\n",
        "\n",
        "    def forward(self, input):\n",
        "        return self.main(input)"
      ],
      "execution_count": 0,
      "outputs": []
    },
    {
      "cell_type": "code",
      "metadata": {
        "id": "TYlxJg2BHFya",
        "colab_type": "code",
        "colab": {}
      },
      "source": [
        "# Create the generator\n",
        "netG = Generator(ngpu).to(device)\n",
        "\n",
        "# Handle multi-gpu if desired\n",
        "if (device.type == 'cuda') and (ngpu > 1):\n",
        "    netG = nn.DataParallel(netG, list(range(ngpu)))\n",
        "\n",
        "# Apply the weights_init function to randomly initialize all weights\n",
        "#  to mean=0, stdev=0.2.\n",
        "netG.apply(weights_init)\n",
        "\n",
        "# Print the model\n",
        "print(netG)\n"
      ],
      "execution_count": 0,
      "outputs": []
    },
    {
      "cell_type": "code",
      "metadata": {
        "id": "iUl8QrikW7CS",
        "colab_type": "code",
        "colab": {}
      },
      "source": [
        "#Discriminator Architecture goes here\n",
        "class Discriminator(nn.Module):\n",
        "    def __init__(self, ngpu):\n",
        "        super(Discriminator, self).__init__()\n",
        "        self.ngpu = ngpu\n",
        "        self.main = nn.Sequential(\n",
        "            # input is (nc) x 64 x 64\n",
        "            nn.Conv2d(nc, ndf, 4, 2, 1, bias=False),\n",
        "            nn.BatchNorm2d(ndf),\n",
        "            nn.LeakyReLU(0.2, inplace=True),\n",
        "            # state size. (ndf) x 32 x 32\n",
        "            nn.Conv2d(ndf, ndf * 2, 4, 2, 1, bias=False),\n",
        "            nn.BatchNorm2d(ndf * 2),\n",
        "            nn.LeakyReLU(0.2, inplace=True),\n",
        "            # state size. (ndf*2) x 16 x 16\n",
        "            nn.Conv2d(ndf * 2, ndf * 4, 4, 2, 1, bias=False),\n",
        "            nn.BatchNorm2d(ndf * 4),\n",
        "            nn.LeakyReLU(0.2, inplace=True),\n",
        "            # state size. (ndf*4) x 8 x 8\n",
        "            nn.Conv2d(ndf * 4, ndf * 8, 4, 2, 1, bias=False),\n",
        "            nn.BatchNorm2d(ndf * 8),\n",
        "            nn.LeakyReLU(0.2, inplace=True),\n",
        "            # state size. (ndf*8) x 4 x 4\n",
        "            nn.Conv2d(ndf * 8, 2, 4, 1, 0, bias=False),\n",
        "            nn.Sigmoid()\n",
        "        )\n",
        "\n",
        "    def forward(self, input):\n",
        "        return self.main(input)"
      ],
      "execution_count": 0,
      "outputs": []
    },
    {
      "cell_type": "code",
      "metadata": {
        "id": "BRWxWPXoW_mP",
        "colab_type": "code",
        "colab": {}
      },
      "source": [
        "# Create the Discriminator\n",
        "netD = Discriminator(ngpu).to(device)\n",
        "\n",
        "# Handle multi-gpu if desired\n",
        "if (device.type == 'cuda') and (ngpu > 1):\n",
        "    netD = nn.DataParallel(netD, list(range(ngpu)))\n",
        "\n",
        "# Apply the weights_init function to randomly initialize all weights\n",
        "#  to mean=0, stdev=0.2.\n",
        "netD.apply(weights_init)\n",
        "\n",
        "# Print the model\n",
        "print(netD)"
      ],
      "execution_count": 0,
      "outputs": []
    },
    {
      "cell_type": "code",
      "metadata": {
        "id": "ZHs8WUPrXDtF",
        "colab_type": "code",
        "colab": {}
      },
      "source": [
        "class GeneratorLossEncoder(nn.Module):\n",
        "    def __init__(self, ngpu):\n",
        "        super(GeneratorLossEncoder, self).__init__()\n",
        "        self.ngpu = ngpu\n",
        "        self.main = nn.Sequential(\n",
        "            nn.Linear(2,1),\n",
        "            nn.LeakyReLU(0.2, inplace=True)\n",
        "        )\n",
        "\n",
        "    def forward(self, input):\n",
        "        return self.main(input)"
      ],
      "execution_count": 0,
      "outputs": []
    },
    {
      "cell_type": "code",
      "metadata": {
        "id": "8yqsa-Ty4XZh",
        "colab_type": "code",
        "colab": {}
      },
      "source": [
        "# Create the Generator Loss Encoder (to convert the CrossEntropy Loss output to BCE)\n",
        "netGLE = GeneratorLossEncoder(ngpu).to(device)\n",
        "\n",
        "# Handle multi-gpu if desired\n",
        "if (device.type == 'cuda') and (ngpu > 1):\n",
        "    netGLE = nn.DataParallel(netGLE, list(range(ngpu)))\n",
        "\n",
        "# Apply the weights_init function to randomly initialize all weights\n",
        "#  to mean=0, stdev=0.2.\n",
        "netGLE.apply(weights_init)\n",
        "\n",
        "# Print the model\n",
        "print(netGLE)"
      ],
      "execution_count": 0,
      "outputs": []
    },
    {
      "cell_type": "markdown",
      "metadata": {
        "id": "VNBjFlCJ3y6N",
        "colab_type": "text"
      },
      "source": [
        "# Define Loss Functions"
      ]
    },
    {
      "cell_type": "code",
      "metadata": {
        "id": "7TXwjiQj014x",
        "colab_type": "code",
        "colab": {}
      },
      "source": [
        "#Loss tranfer code goes here\n",
        "# Initialize BCELoss function\n",
        "criterion = nn.CrossEntropyLoss()\n",
        "gen_criterion = nn.BCELoss()\n",
        "\n",
        "\n",
        "# Create batch of latent vectors that we will use to visualize\n",
        "#  the progression of the generator\n",
        "fixed_noise = torch.randn(64, nz, 1, 1, device=device)\n",
        "\n",
        "# Establish convention for real and fake labels during training\n",
        "real_label = 1\n",
        "fake_label = 0\n",
        "\n",
        "# Setup Adam optimizers for both G and D\n",
        "optimizerD = optim.Adam(netD.parameters(), lr=lr, betas=(beta1, 0.999))\n",
        "optimizerG = optim.Adam(netG.parameters(), lr=lr, betas=(beta1, 0.999))"
      ],
      "execution_count": 0,
      "outputs": []
    },
    {
      "cell_type": "markdown",
      "metadata": {
        "id": "rX11vKmr33KW",
        "colab_type": "text"
      },
      "source": [
        "# Train Model"
      ]
    },
    {
      "cell_type": "code",
      "metadata": {
        "id": "1CKdtbXY4bdK",
        "colab_type": "code",
        "colab": {}
      },
      "source": [
        "import pickle\n",
        "from torch.autograd import Variable\n",
        "# Lists to keep track of progress\n",
        "img_list = []\n",
        "G_losses = []\n",
        "D_losses = []\n",
        "iters = 0\n",
        "\n",
        "print(\"Starting Training Loop...\")\n",
        "# For each epoch\n",
        "for epoch in range(num_epochs):\n",
        "    # For each batch in the dataloader\n",
        "    for i, data in enumerate(dataloader, 0):\n",
        "\n",
        "        ############################\n",
        "        # (1) Update D network: maximize log(D(x)) + log(1 - D(G(z)))\n",
        "        ###########################\n",
        "        ## Train with all-real batch\n",
        "        netD.zero_grad()\n",
        "        # Format batch\n",
        "        real_cpu = data[0].to(device)\n",
        "        b_size = real_cpu.size(0)\n",
        "        label = data[1].to(device).long()\n",
        "        # Forward pass real batch through D\n",
        "        output = netD(real_cpu).squeeze()\n",
        "        # Calculate loss on all-real batch\n",
        "        errD_real = criterion(output, label)\n",
        "        errD_real.backward()\n",
        "        # Calculate gradients for D in backward pass\n",
        "        _, predicted = torch.max(output.data.squeeze(),1)\n",
        "        total = label.size(0)\n",
        "        correct = (predicted.squeeze() == label).sum().item()\n",
        "        D_x = correct/total\n",
        "\n",
        "        ## Train with all-fake batch\n",
        "        # Generate batch of latent vectors\n",
        "        noise = torch.randn(b_size, nz, 1, 1, device=device)\n",
        "        # Generate fake image batch with G\n",
        "        fake = netG(noise)\n",
        "        label.fill_(fake_label)\n",
        "        # Classify all fake batch with D\n",
        "        output = netD(fake.detach()).squeeze()\n",
        "        # Calculate D's loss on the all-fake batch\n",
        "        errD_fake = criterion(output, label)\n",
        "        errD_fake.backward()\n",
        "        # Calculate the gradients for this batch\n",
        "        _, predicted = torch.max(output.data.squeeze(),1)\n",
        "        total = label.size(0)\n",
        "        correct = (predicted.squeeze() == label).sum().item()\n",
        "        D_G_z1 = correct/total\n",
        "        # Add the gradients from the all-real and all-fake batches\n",
        "        errD = errD_real + errD_fake\n",
        "        # Update D\n",
        "        optimizerD.step()\n",
        "\n",
        "        ############################\n",
        "        # (2) Update G network: maximize log(D(G(z)))\n",
        "        ###########################\n",
        "        netG.zero_grad()\n",
        "        label.fill_(real_label)  # fake labels are real for generator cost\n",
        "        # Since we just updated D, perform another forward pass of all-fake batch through D\n",
        "        output = netD(fake).squeeze()\n",
        "        # Calculate G's loss based on this output\n",
        "        errG = criterion(output, label)\n",
        "        # Calculate gradients for G\n",
        "        errG.backward()\n",
        "        _, predicted = torch.max(output.data.squeeze(),1)\n",
        "        total = label.size(0)\n",
        "        correct = (predicted.squeeze() == label).sum().item()\n",
        "        D_G_z2 = correct/total\n",
        "        # Update G\n",
        "        optimizerG.step()\n",
        "\n",
        "        # Output training stats\n",
        "        if i % 100 == 0:\n",
        "            print('[%d/%d][%d/%d]\\tLoss_D: %.4f\\tLoss_G: %.4f\\tD(x): %.4f\\tD(G(z)): %.4f / %.4f'\n",
        "                  % (epoch, num_epochs, i, len(dataloader),\n",
        "                     errD.item(), errG.item(), D_x, D_G_z1, D_G_z2))\n",
        "\n",
        "        # Save Losses for plotting later\n",
        "        G_losses.append(errG.item())\n",
        "        D_losses.append(errD.item())\n",
        "\n",
        "        # Check how the generator is doing by saving G's output on fixed_noise\n",
        "        if (iters % 100 == 0) or ((epoch == num_epochs-1) and (i == len(dataloader)-1)):\n",
        "            torch.save({'D state_dict':netD.state_dict(), 'DOptim state_dict':optimizerD.state_dict(), 'G state_dict':netG.state_dict(), 'GOptim state_dict':optimizerG.state_dict()},\"/content/drive/My Drive/Deep Learning Project Spring 20/data/CelebA_DCGAN_detect_binary_class_state_dict\")\n",
        "            with torch.no_grad():\n",
        "                fake = netG(fixed_noise).detach().cpu()\n",
        "            img_list.append(vutils.make_grid(fake, padding=2, normalize=True))\n",
        "\n",
        "        iters += 1\n",
        "np.save('/content/drive/My Drive/Deep Learning Project Spring 20/Results/DCGAN_binary_class_train_loss.npy', np.array(G_losses), np.array(D_losses))\n",
        "with open('/content/drive/My Drive/Deep Learning Project Spring 20/Results/DCGAN_binary_class_train_hist.pkl', 'wb') as f:\n",
        "    pickle.dump(img_list, f)"
      ],
      "execution_count": 0,
      "outputs": []
    },
    {
      "cell_type": "markdown",
      "metadata": {
        "id": "d005wm5t35dl",
        "colab_type": "text"
      },
      "source": [
        "# Save Model"
      ]
    },
    {
      "cell_type": "code",
      "metadata": {
        "id": "YL3NVSc9e_1j",
        "colab_type": "code",
        "colab": {}
      },
      "source": [
        "state_dict = torch.load(\"/content/drive/My Drive/Deep Learning Project Spring 20/data/CelebA_DCGAN_detect_binary_class_state_dict\")\n",
        "netD.load_state_dict(state_dict['D state_dict'])\n",
        "optimizerD.load_state_dict(state_dict['DOptim state_dict'])\n",
        "\n",
        "netG.load_state_dict(state_dict['G state_dict'])\n",
        "optimizerG.load_state_dict(state_dict['GOptim state_dict'])"
      ],
      "execution_count": 0,
      "outputs": []
    },
    {
      "cell_type": "markdown",
      "metadata": {
        "id": "MouuAh1238ql",
        "colab_type": "text"
      },
      "source": [
        "# Test Data Performance"
      ]
    },
    {
      "cell_type": "code",
      "metadata": {
        "id": "BvW-up9hAmei",
        "colab_type": "code",
        "colab": {}
      },
      "source": [
        "#Load Data\n",
        "nvidia_fakes = np.load('/content/drive/My Drive/CelebA/image_fake_array_10000.npy')\n",
        "real_images = np.load('/content/drive/My Drive/CelebA/image_array_20000.npy')[:10000]\n",
        "\n",
        "if nvidia_fakes.shape[1:]==(64, 64, 3):\n",
        "  nvidia_fake_array = np.transpose(nvidia_fakes, (0, 1, 3, 2))\n",
        "  nvidia_fake_array = np.transpose(nvidia_fake_array, (0, 2, 1, 3))\n",
        "else:\n",
        "  nvidia_fake_array=nvidia_fakes\n",
        "\n",
        "if real_images.shape[1:]==(64, 64, 3):\n",
        "  real_images_array = np.transpose(real_images, (0, 1, 3, 2))\n",
        "  real_images_array = np.transpose(real_images_array, (0, 2, 1, 3))\n",
        "else:\n",
        "  real_images_array=real_images\n",
        "\n",
        "#Create a mixture of real and Nvidia Fakes\n",
        "\n",
        "test_x=np.concatenate([nvidia_fake_array, real_images_array])\n",
        "test_y=np.concatenate([np.ones(len(nvidia_fake_array)), np.zeros(len(real_images_array))])\n",
        "\n",
        "#Create a dataloader\n",
        "dataset_test=MyDataset(x_test, y_test, transform=transform_norm)\n",
        "dataloader_test=torch.utils.data.DataLoader(dataset_test, 50, shuffle=True)"
      ],
      "execution_count": 0,
      "outputs": []
    },
    {
      "cell_type": "code",
      "metadata": {
        "id": "9zS8TKUvgxxS",
        "colab_type": "code",
        "colab": {}
      },
      "source": [
        "correct = 0\n",
        "total = 0\n",
        "with torch.no_grad():\n",
        "    for i, data in enumerate(dataloader_test, 0):\n",
        "        images, labels = data\n",
        "        labels = labels.to(device)\n",
        "        outputs = netD(images.to(device))\n",
        "        _, predicted = torch.max(outputs.data,1)\n",
        "        total += labels.size(0)\n",
        "        correct += (predicted.squeeze() == labels).sum().item()\n",
        "    #acc_nvidia = 100 * correct/total\n",
        "print('Accuracy of the network on the 10000 test images: %f %%' % (\n",
        "    100 * correct / total))"
      ],
      "execution_count": 0,
      "outputs": []
    }
  ]
}