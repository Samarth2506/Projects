{
  "nbformat": 4,
  "nbformat_minor": 0,
  "metadata": {
    "colab": {
      "name": "CNN_classifier.ipynb",
      "provenance": [],
      "collapsed_sections": [],
      "toc_visible": true,
      "machine_shape": "hm"
    },
    "kernelspec": {
      "name": "python3",
      "display_name": "Python 3"
    },
    "accelerator": "GPU"
  },
  "cells": [
    {
      "cell_type": "markdown",
      "metadata": {
        "id": "6BLQnn8gAKxH",
        "colab_type": "text"
      },
      "source": [
        "# Necessary Imports"
      ]
    },
    {
      "cell_type": "code",
      "metadata": {
        "id": "vssFyWDNQz-_",
        "colab_type": "code",
        "colab": {}
      },
      "source": [
        "import torch\n",
        "import torch.nn as nn\n",
        "import torch.nn.functional as F\n",
        "import torch.optim as optim\n",
        "import numpy as np\n",
        "use_cuda=True\n",
        "from sklearn.model_selection import train_test_split\n",
        "import matplotlib.pyplot as plt\n",
        "torch.manual_seed(2)\n",
        "np.random.seed(2)"
      ],
      "execution_count": 0,
      "outputs": []
    },
    {
      "cell_type": "markdown",
      "metadata": {
        "id": "IDL9AihfAQMj",
        "colab_type": "text"
      },
      "source": [
        "# Data Loading and Processing"
      ]
    },
    {
      "cell_type": "code",
      "metadata": {
        "id": "jCw9RnLbdznU",
        "colab_type": "code",
        "colab": {}
      },
      "source": [
        "real_train=np.load(\"/content/drive/My Drive/CelebA/image_array_10000.npy\")\n",
        "fake_train=np.load(\"/content/drive/My Drive/CelebA/image_array_10000_fakes.npy\")\n",
        "\n",
        "if real_train.shape[1:]==(64, 64, 3):\n",
        "  array_real = np.transpose(real_train, (0, 1, 3, 2))\n",
        "  array_real = np.transpose(array_real, (0, 2, 1, 3))\n",
        "else:\n",
        "  array_real=real_train\n",
        "\n",
        "if fake_train.shape[1:]==(64, 64, 3):\n",
        "\n",
        "  array_fake = np.transpose(fake_train, (0, 1, 3, 2))\n",
        "  array_fake = np.transpose(array_fake, (0, 2, 1, 3))\n",
        "else:\n",
        "  array_fake=fake_train"
      ],
      "execution_count": 0,
      "outputs": []
    },
    {
      "cell_type": "code",
      "metadata": {
        "id": "_-LnN1u4nUHS",
        "colab_type": "code",
        "colab": {}
      },
      "source": [
        "train_x=np.concatenate([array_real, array_fake])\n",
        "train_y=np.concatenate([np.zeros(len(array_real)), np.ones(len(array_fake))])\n",
        "\n",
        "x_train, x_test, y_train, y_test = train_test_split(train_x, train_y, stratify=train_y, test_size=0.2, shuffle=True)\n"
      ],
      "execution_count": 0,
      "outputs": []
    },
    {
      "cell_type": "code",
      "metadata": {
        "id": "LnyXwBrfktwu",
        "colab_type": "code",
        "colab": {}
      },
      "source": [
        "from torch.utils.data import Dataset, DataLoader\n",
        "from PIL import Image\n",
        "\n",
        "import torchvision\n",
        "import torchvision.transforms as transforms\n",
        "\n",
        "\n",
        "class MyDataset(Dataset):\n",
        "    def __init__(self, data, targets, transform=None):\n",
        "        self.data = data\n",
        "        self.targets = torch.LongTensor(targets)\n",
        "        self.transform = transform\n",
        "\n",
        "    def __getitem__(self, index):\n",
        "        x = self.data[index]\n",
        "        y = self.targets[index]\n",
        "\n",
        "        if self.transform:\n",
        "            x = Image.fromarray(self.data[index].astype(np.uint8).transpose(1,2,0))\n",
        "            x = self.transform(x)\n",
        "\n",
        "        return x, y\n",
        "\n",
        "    def __len__(self):\n",
        "        return len(self.data)\n",
        "\n",
        "transform = transforms.Compose(\n",
        "    [transforms.RandomHorizontalFlip(), transforms.RandomVerticalFlip(),  transforms.ToTensor(), transforms.Normalize((0.5, 0.5, 0.5), (0.25, 0.25, 0.25))])\n",
        "\n",
        "transform_norm = transforms.Compose(\n",
        "    [transforms.ToTensor(), transforms.Normalize((0.5, 0.5, 0.5), (0.25, 0.25, 0.25))])\n",
        "\n",
        "dataset = MyDataset(x_train, y_train, transform=transform)\n",
        "dataloader = DataLoader(dataset, 50, shuffle=True)"
      ],
      "execution_count": 0,
      "outputs": []
    },
    {
      "cell_type": "markdown",
      "metadata": {
        "id": "ivgJBscEAXa2",
        "colab_type": "text"
      },
      "source": [
        "# Training and Validation Functions"
      ]
    },
    {
      "cell_type": "code",
      "metadata": {
        "id": "txZewbdEeAlJ",
        "colab_type": "code",
        "colab": {}
      },
      "source": [
        "#Main Training code\n",
        "\n",
        "#Train function returns the training data accuracy, dev data accuracy, and loss for each epoch. This was needed for plotting the graphs.\n",
        "\n",
        "def train(model ,optimiser, criterion, num_epochs, scheduler_present=False, load=False, save=False):\n",
        "  train_acc=[]\n",
        "  val_acc=[]\n",
        "  loss_data=[]\n",
        "  \n",
        "  start=0\n",
        "  \n",
        "  if load:\n",
        "    checkpoint = torch.load(PATH) #set Path here for loading data\n",
        "    model.load_state_dict(checkpoint['model_state_dict'])\n",
        "    optimizer.load_state_dict(checkpoint['optimizer_state_dict'])\n",
        "    start = checkpoint['epoch']\n",
        "    loss = checkpoint['loss']\n",
        "    model.train()\n",
        "\n",
        "  for epoch in range(start, num_epochs):\n",
        "\n",
        "    for local_X, local_Y in dataloader:\n",
        "      local_X, local_Y= local_X.cuda(), local_Y.cuda()\n",
        "      optimizer.zero_grad()\n",
        "\n",
        "      outputs=model(local_X)\n",
        "      loss=criterion(outputs, local_Y)\n",
        "      loss.backward()\n",
        "\n",
        "      optimizer.step()\n",
        "    \n",
        "    if scheduler_present:\n",
        "      scheduler.step()\n",
        "    \n",
        "    tr=model_accuracy(model, x_train, y_train, 50)\n",
        "    val=model_accuracy(model, x_test, y_test, 50)\n",
        "    \n",
        "    train_acc.append(tr)\n",
        "    val_acc.append(val)\n",
        "    loss_data.append(loss.item())\n",
        "\n",
        "    if epoch%10==0:\n",
        "      print(\"Epoch:\", epoch, loss.item(), \"Train Acc:\", tr, \"Val Acc:\", val)\n",
        "    \n",
        "\n",
        "    #Saving the Model (Current path in Google Drive)\n",
        "    \n",
        "    if save and epoch%50==0:\n",
        "      torch.save({'epoch': epoch,\n",
        "                  'model_state_dict': model.state_dict(),\n",
        "                  'optimizer_state_dict': optimizer.state_dict(),\n",
        "                  'loss': loss,}, \"/content/drive/My Drive/DL_CIFAR_\"+str(epoch)) #set path here for saving data to desired location\n",
        "  \n",
        "  return train_acc, val_acc, loss_data\n",
        "\n",
        "\n",
        "#Model Accuracy Calculator\n",
        "#Reference: https://pytorch.org/tutorials/beginner/blitz/cifar10_tutorial.html\n",
        "\n",
        "def model_accuracy(model, data_x, data_y, batch_size):\n",
        "\n",
        "  correct = 0\n",
        "  total = 0\n",
        "\n",
        "  dataset_check = MyDataset(data_x, data_y, transform=transform_norm)\n",
        "  dataloader_check = DataLoader(dataset_check, 50, shuffle=False)\n",
        "  with torch.no_grad():\n",
        "      for local_X, local_Y in dataloader_check:\n",
        "          local_X, local_Y= local_X.cuda(), local_Y.cuda()\n",
        "          outputs = model(local_X)\n",
        "          _, predicted = torch.max(outputs.data, 1)\n",
        "          total += local_Y.size(0)\n",
        "          correct += (predicted == local_Y).sum().item()\n",
        "\n",
        "  return 100 * correct / total\n"
      ],
      "execution_count": 0,
      "outputs": []
    },
    {
      "cell_type": "markdown",
      "metadata": {
        "id": "eeyRDTZWAbJ6",
        "colab_type": "text"
      },
      "source": [
        "# Convolution Neural Network Model"
      ]
    },
    {
      "cell_type": "code",
      "metadata": {
        "id": "hm5jb4HJd7Dl",
        "colab_type": "code",
        "colab": {}
      },
      "source": [
        "\n",
        "class CNN_Model_2(torch.nn.Module):\n",
        "\n",
        "  def __init__(self):\n",
        "    super().__init__()\n",
        "    self.conv1= torch.nn.Conv2d(3, 16, 7)\n",
        "    self.conv2= torch.nn.Conv2d(16, 16, 3)\n",
        "    self.pool= torch.nn.MaxPool2d(2,2)\n",
        "    self.drop= torch.nn.Dropout(p=0.25)\n",
        "    self.conv_batchnorm=torch.nn.BatchNorm2d(16)\n",
        "    self.linear1=nn.Linear(11664, 2)\n",
        "    \n",
        "\n",
        "  def forward(self, x):\n",
        "    x=self.pool(F.relu(self.conv_batchnorm(self.conv1(x))))\n",
        "    x=F.relu(self.conv_batchnorm(self.conv2(x)))\n",
        "    x=x.view(-1, 11664)\n",
        "\n",
        "    \n",
        "    x=self.drop(x)\n",
        "    x=(self.linear1(x))\n",
        "\n",
        "    return x"
      ],
      "execution_count": 0,
      "outputs": []
    },
    {
      "cell_type": "markdown",
      "metadata": {
        "id": "zWoR8AjbAhR7",
        "colab_type": "text"
      },
      "source": [
        "# Training "
      ]
    },
    {
      "cell_type": "code",
      "metadata": {
        "id": "K1iKY6MGkL7v",
        "colab_type": "code",
        "outputId": "12bc38e8-fdc4-4a14-d68d-075504aaffd0",
        "colab": {
          "base_uri": "https://localhost:8080/",
          "height": 104
        }
      },
      "source": [
        "\n",
        "#Run Model 2\n",
        "\n",
        "model=CNN_Model_2()\n",
        "model.cuda()\n",
        "\n",
        "criterion=nn.CrossEntropyLoss()\n",
        "optimizer=optim.SGD(model.parameters(), lr=0.1, weight_decay=0.0005) #regularisation l2\n",
        "scheduler = optim.lr_scheduler.StepLR(optimizer, step_size=30, gamma=0.1)\n",
        "\n",
        "num_epochs=50\n",
        "\n",
        "scheduler_present=True\n",
        "\n",
        "#Loading and Saving Data (Needs drive Mounting)\n",
        "load_data=False\n",
        "save_data=False\n",
        "\n",
        "train_acc, val_acc, loss_data=train(model, optimizer, criterion, num_epochs, scheduler_present, load_data, save_data)"
      ],
      "execution_count": 0,
      "outputs": [
        {
          "output_type": "stream",
          "text": [
            "Epoch: 0 0.0 Train Acc: 99.9375 Val Acc: 99.925\n",
            "Epoch: 10 0.0 Train Acc: 99.975 Val Acc: 99.95\n",
            "Epoch: 20 0.05615462362766266 Train Acc: 99.95 Val Acc: 99.975\n",
            "Epoch: 30 0.0 Train Acc: 99.9875 Val Acc: 100.0\n",
            "Epoch: 40 0.0 Train Acc: 99.9875 Val Acc: 99.975\n"
          ],
          "name": "stdout"
        }
      ]
    },
    {
      "cell_type": "markdown",
      "metadata": {
        "id": "UFYRZJEWkccD",
        "colab_type": "text"
      },
      "source": [
        "# Evaluation on New Test Data"
      ]
    },
    {
      "cell_type": "code",
      "metadata": {
        "id": "O9cj1UzPNYOo",
        "colab_type": "code",
        "colab": {}
      },
      "source": [
        "#Load Data\n",
        "nvidia_fakes = np.load('/content/drive/My Drive/CelebA/image_fake_array_10000.npy')\n",
        "real_images = np.load('/content/drive/My Drive/CelebA/image_array_20000.npy')[:10000]\n",
        "\n",
        "if nvidia_fakes.shape[1:]==(64, 64, 3):\n",
        "  nvidia_fake_array = np.transpose(nvidia_fakes, (0, 1, 3, 2))\n",
        "  nvidia_fake_array = np.transpose(nvidia_fake_array, (0, 2, 1, 3))\n",
        "else:\n",
        "  nvidia_fake_array=nvidia_fakes\n",
        "\n",
        "if real_images.shape[1:]==(64, 64, 3):\n",
        "  real_images_array = np.transpose(real_images, (0, 1, 3, 2))\n",
        "  real_images_array = np.transpose(real_images_array, (0, 2, 1, 3))\n",
        "else:\n",
        "  real_images_array=real_images\n",
        "\n",
        "#Create a mixture of real and Nvidia Fakes\n",
        "\n",
        "test_x=np.concatenate([nvidia_fake_array, real_images_array])\n",
        "test_y=np.concatenate([np.ones(len(nvidia_fake_array)), np.zeros(len(real_images_array))])\n",
        "\n",
        "#Create a dataloader\n",
        "dataset_test=MyDataset(x_test, y_test, transform=transform_norm)\n",
        "dataloader_test=torch.utils.data.DataLoader(dataset_test, 50, shuffle=True)"
      ],
      "execution_count": 0,
      "outputs": []
    },
    {
      "cell_type": "code",
      "metadata": {
        "id": "X5Zj_oFANUjS",
        "colab_type": "code",
        "outputId": "1ef34017-fe4e-4a91-de5d-9327d4da0f5e",
        "colab": {
          "base_uri": "https://localhost:8080/",
          "height": 34
        }
      },
      "source": [
        "#Check Accuracy\n",
        "model_accuracy(model, x_test, y_test, 50)"
      ],
      "execution_count": 0,
      "outputs": [
        {
          "output_type": "execute_result",
          "data": {
            "text/plain": [
              "45.3"
            ]
          },
          "metadata": {
            "tags": []
          },
          "execution_count": 12
        }
      ]
    },
    {
      "cell_type": "markdown",
      "metadata": {
        "id": "U8d7c_HsAml4",
        "colab_type": "text"
      },
      "source": [
        "# Generate Plots"
      ]
    },
    {
      "cell_type": "code",
      "metadata": {
        "id": "RpraNuNHAfgL",
        "colab_type": "code",
        "outputId": "2426567c-391a-4a86-bd59-bf20f870f9c4",
        "colab": {
          "base_uri": "https://localhost:8080/",
          "height": 295
        }
      },
      "source": [
        "plt.title(\"Train vs Val Accuracy over CNN\")\n",
        "plt.xlabel(\"Epochs\")\n",
        "plt.ylabel(\"Accuracy\")\n",
        "plt.plot(range(len(tr_acc)), tr_acc, label=\"Training\")\n",
        "plt.plot(range(len(val_acc)), val_acc, label=\"Validation\")\n",
        "plt.legend();"
      ],
      "execution_count": 0,
      "outputs": [
        {
          "output_type": "display_data",
          "data": {
            "image/png": "[encoded data removed]",
            "text/plain": [
              "<Figure size 432x288 with 1 Axes>"
            ]
          },
          "metadata": {
            "tags": [],
            "needs_background": "light"
          }
        }
      ]
    },
    {
      "cell_type": "code",
      "metadata": {
        "id": "r53dpn3bL8EP",
        "colab_type": "code",
        "outputId": "caf78b3a-093a-4b82-bbe9-8d1430eabc6c",
        "colab": {
          "base_uri": "https://localhost:8080/",
          "height": 295
        }
      },
      "source": [
        "plt.title(\"Loss plot of Network\")\n",
        "plt.xlabel(\"Epochs\")\n",
        "plt.ylabel(\"Loss\")\n",
        "plt.plot(range(len(loss)), loss, label='Loss');\n",
        "plt.legend();"
      ],
      "execution_count": 0,
      "outputs": [
        {
          "output_type": "display_data",
          "data": {
            "image/png": "[encoded data removed]",
            "text/plain": [
              "<Figure size 432x288 with 1 Axes>"
            ]
          },
          "metadata": {
            "tags": [],
            "needs_background": "light"
          }
        }
      ]
    }
  ]
}